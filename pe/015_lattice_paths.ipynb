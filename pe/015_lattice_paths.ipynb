{
 "cells": [
  {
   "cell_type": "code",
   "execution_count": 1,
   "metadata": {
    "collapsed": false
   },
   "outputs": [],
   "source": [
    "import numpy as np"
   ]
  },
  {
   "cell_type": "code",
   "execution_count": 2,
   "metadata": {
    "collapsed": false
   },
   "outputs": [
    {
     "name": "stdout",
     "output_type": "stream",
     "text": [
      "1\n",
      "[[ 0.  0.]\n",
      " [ 0.  0.]]\n",
      "2\n",
      "[[ 0.  0.  0.]\n",
      " [ 0.  0.  0.]\n",
      " [ 0.  0.  0.]]\n",
      "3\n",
      "[[ 0.  0.  0.  0.]\n",
      " [ 0.  0.  0.  0.]\n",
      " [ 0.  0.  0.  0.]\n",
      " [ 0.  0.  0.  0.]]\n",
      "4\n",
      "[[ 0.  0.  0.  0.  0.]\n",
      " [ 0.  0.  0.  0.  0.]\n",
      " [ 0.  0.  0.  0.  0.]\n",
      " [ 0.  0.  0.  0.  0.]\n",
      " [ 0.  0.  0.  0.  0.]]\n"
     ]
    }
   ],
   "source": [
    "for i in range(1,5):\n",
    "    print i\n",
    "    print np.zeros((i+1)**2).reshape(i+1, i+1)"
   ]
  },
  {
   "cell_type": "markdown",
   "metadata": {},
   "source": [
    "## trying to get a dummy for-loop to work"
   ]
  },
  {
   "cell_type": "code",
   "execution_count": 3,
   "metadata": {
    "collapsed": false
   },
   "outputs": [
    {
     "name": "stdout",
     "output_type": "stream",
     "text": [
      "12870\n"
     ]
    }
   ],
   "source": [
    "boxes = 8\n",
    "max_dist = boxes * 2\n",
    "\n",
    "steps = {0: [(0,0)]}\n",
    "\n",
    "for step in range(1, max_dist+1):\n",
    "    steps[step] = []\n",
    "\n",
    "#     print step-1\n",
    "#     print steps[step-1]\n",
    "#     print steps[step-1][-1]\n",
    "    \n",
    "    for path in steps[step-1]:\n",
    "        if step-1==0:\n",
    "\n",
    "            if steps[step-1][-1][0] < boxes:\n",
    "                pre_step1 = list(steps[step-1])\n",
    "                pre_step1.extend([(pre_step1[0][0]+1,pre_step1[0][1])])\n",
    "                steps[step].append(pre_step1)\n",
    "\n",
    "            if steps[step-1][-1][1] < boxes:\n",
    "                pre_step2 = list(steps[step-1])\n",
    "                pre_step2.extend([(pre_step2[0][0],pre_step2[0][1]+1)])\n",
    "                steps[step].append(pre_step2)\n",
    "        else:\n",
    "\n",
    "            if path[-1][0] < boxes:\n",
    "                pre_step1 = list(path)\n",
    "                pre_step1.extend([(pre_step1[-1][0]+1,pre_step1[-1][1])])\n",
    "                steps[step].append(pre_step1)\n",
    "\n",
    "            if path[-1][1] < boxes:\n",
    "                pre_step2 = list(path)\n",
    "                pre_step2.extend([(pre_step2[-1][0],pre_step2[-1][1]+1)])\n",
    "                steps[step].append(pre_step2)\n",
    "    \n",
    "        \n",
    "\n",
    "print len(steps[max(steps.keys())])\n",
    "# steps[max(steps.keys())]"
   ]
  },
  {
   "cell_type": "code",
   "execution_count": 5,
   "metadata": {
    "collapsed": false
   },
   "outputs": [
    {
     "data": {
      "text/plain": [
       "array([[ 0.,  0.,  0.,  0.],\n",
       "       [ 0.,  0.,  0.,  0.],\n",
       "       [ 0.,  0.,  0.,  0.],\n",
       "       [ 0.,  0.,  0.,  0.]])"
      ]
     },
     "execution_count": 5,
     "metadata": {},
     "output_type": "execute_result"
    }
   ],
   "source": [
    "np.zeros(16).reshape(4,4)"
   ]
  },
  {
   "cell_type": "code",
   "execution_count": 21,
   "metadata": {
    "collapsed": false
   },
   "outputs": [
    {
     "name": "stdout",
     "output_type": "stream",
     "text": [
      "[[   1.    1.    1.    1.    1.    1.]\n",
      " [   1.    2.    3.    4.    5.    6.]\n",
      " [   1.    3.    6.   10.   15.   21.]\n",
      " [   1.    4.   10.   20.   35.   56.]\n",
      " [   1.    5.   15.   35.   70.  126.]\n",
      " [   1.    6.   21.   56.  126.  252.]]\n",
      "\n",
      "5 x 5 grid has 252 paths\n"
     ]
    }
   ],
   "source": [
    "import numpy as np\n",
    "\n",
    "def lat_path(x):\n",
    "    \n",
    "    grid = (x+1) * (x+1)\n",
    "\n",
    "    test_m = np.zeros(grid).reshape(x+1, x+1)\n",
    "\n",
    "    for row in range(x+1):\n",
    "        for col in range(x+1):\n",
    "            if row == 0 or col == 0:\n",
    "                test_m[row][col] = 1\n",
    "            else:\n",
    "                test_m[row][col] = test_m[row-1][col] + test_m[row][col-1]\n",
    "        \n",
    "    print test_m\n",
    "    print \"\"\n",
    "    print \"%d x %d grid has %d paths\" % (x, x, test_m[x][x])\n",
    "\n",
    "lat_path(5)"
   ]
  },
  {
   "cell_type": "code",
   "execution_count": null,
   "metadata": {
    "collapsed": true
   },
   "outputs": [],
   "source": []
  }
 ],
 "metadata": {
  "kernelspec": {
   "display_name": "Python 2",
   "language": "python",
   "name": "python2"
  },
  "language_info": {
   "codemirror_mode": {
    "name": "ipython",
    "version": 2
   },
   "file_extension": ".py",
   "mimetype": "text/x-python",
   "name": "python",
   "nbconvert_exporter": "python",
   "pygments_lexer": "ipython2",
   "version": "2.7.11"
  }
 },
 "nbformat": 4,
 "nbformat_minor": 0
}
