{
 "cells": [
  {
   "cell_type": "code",
   "execution_count": 21,
   "metadata": {
    "collapsed": false
   },
   "outputs": [
    {
     "name": "stderr",
     "output_type": "stream",
     "text": [
      "C:\\Anaconda2\\lib\\site-packages\\matplotlib\\__init__.py:872: UserWarning: axes.color_cycle is deprecated and replaced with axes.prop_cycle; please use the latter.\n",
      "  warnings.warn(self.msg_depr % (key, alt_key))\n"
     ]
    }
   ],
   "source": [
    "import pandas as pd\n",
    "import numpy as np\n",
    "import re\n",
    "import matplotlib.pyplot as plt\n",
    "%matplotlib inline\n",
    "import seaborn as sns"
   ]
  },
  {
   "cell_type": "markdown",
   "metadata": {},
   "source": [
    "## 2014 entrant counts"
   ]
  },
  {
   "cell_type": "code",
   "execution_count": 7,
   "metadata": {
    "collapsed": false
   },
   "outputs": [
    {
     "name": "stdout",
     "output_type": "stream",
     "text": [
      "country    object\n",
      "entries     int64\n",
      "dtype: object\n",
      "(58, 2)\n"
     ]
    },
    {
     "data": {
      "text/html": [
       "<div>\n",
       "<table border=\"1\" class=\"dataframe\">\n",
       "  <thead>\n",
       "    <tr style=\"text-align: right;\">\n",
       "      <th></th>\n",
       "      <th>country</th>\n",
       "      <th>entries</th>\n",
       "    </tr>\n",
       "  </thead>\n",
       "  <tbody>\n",
       "    <tr>\n",
       "      <th>0</th>\n",
       "      <td>Argentina</td>\n",
       "      <td>8</td>\n",
       "    </tr>\n",
       "    <tr>\n",
       "      <th>1</th>\n",
       "      <td>Australia</td>\n",
       "      <td>80</td>\n",
       "    </tr>\n",
       "    <tr>\n",
       "      <th>2</th>\n",
       "      <td>Austria</td>\n",
       "      <td>32</td>\n",
       "    </tr>\n",
       "    <tr>\n",
       "      <th>3</th>\n",
       "      <td>Belgium</td>\n",
       "      <td>89</td>\n",
       "    </tr>\n",
       "    <tr>\n",
       "      <th>4</th>\n",
       "      <td>Belize</td>\n",
       "      <td>4</td>\n",
       "    </tr>\n",
       "  </tbody>\n",
       "</table>\n",
       "</div>"
      ],
      "text/plain": [
       "     country  entries\n",
       "0  Argentina        8\n",
       "1  Australia       80\n",
       "2    Austria       32\n",
       "3    Belgium       89\n",
       "4     Belize        4"
      ]
     },
     "execution_count": 7,
     "metadata": {},
     "output_type": "execute_result"
    }
   ],
   "source": [
    "entrants2014 = pd.read_csv('data/2014_participating_countries.txt', header=None, names=['country', 'entries'])\n",
    "print entrants2014.dtypes\n",
    "print entrants2014.shape\n",
    "entrants2014.head()"
   ]
  },
  {
   "cell_type": "code",
   "execution_count": 14,
   "metadata": {
    "collapsed": false
   },
   "outputs": [
    {
     "data": {
      "text/plain": [
       "4753L"
      ]
     },
     "execution_count": 14,
     "metadata": {},
     "output_type": "execute_result"
    }
   ],
   "source": [
    "entry_count = np.sum(entrants2014.entries)\n",
    "entry_count"
   ]
  },
  {
   "cell_type": "code",
   "execution_count": 16,
   "metadata": {
    "collapsed": false
   },
   "outputs": [],
   "source": [
    "entrants2014['perOfTotal'] = entrants2014.entries/entry_count"
   ]
  },
  {
   "cell_type": "code",
   "execution_count": 38,
   "metadata": {
    "collapsed": false
   },
   "outputs": [
    {
     "data": {
      "text/html": [
       "<div>\n",
       "<table border=\"1\" class=\"dataframe\">\n",
       "  <thead>\n",
       "    <tr style=\"text-align: right;\">\n",
       "      <th></th>\n",
       "      <th>country</th>\n",
       "      <th>entries</th>\n",
       "      <th>perOfTotal</th>\n",
       "    </tr>\n",
       "  </thead>\n",
       "  <tbody>\n",
       "    <tr>\n",
       "      <th>0</th>\n",
       "      <td>United States</td>\n",
       "      <td>3402</td>\n",
       "      <td>0.715758</td>\n",
       "    </tr>\n",
       "    <tr>\n",
       "      <th>1</th>\n",
       "      <td>Germany</td>\n",
       "      <td>249</td>\n",
       "      <td>0.052388</td>\n",
       "    </tr>\n",
       "    <tr>\n",
       "      <th>2</th>\n",
       "      <td>Canada</td>\n",
       "      <td>190</td>\n",
       "      <td>0.039975</td>\n",
       "    </tr>\n",
       "    <tr>\n",
       "      <th>3</th>\n",
       "      <td>Belgium</td>\n",
       "      <td>89</td>\n",
       "      <td>0.018725</td>\n",
       "    </tr>\n",
       "    <tr>\n",
       "      <th>4</th>\n",
       "      <td>Australia</td>\n",
       "      <td>80</td>\n",
       "      <td>0.016831</td>\n",
       "    </tr>\n",
       "    <tr>\n",
       "      <th>5</th>\n",
       "      <td>Japan</td>\n",
       "      <td>71</td>\n",
       "      <td>0.014938</td>\n",
       "    </tr>\n",
       "    <tr>\n",
       "      <th>6</th>\n",
       "      <td>United Kingdom</td>\n",
       "      <td>69</td>\n",
       "      <td>0.014517</td>\n",
       "    </tr>\n",
       "    <tr>\n",
       "      <th>7</th>\n",
       "      <td>Brazil</td>\n",
       "      <td>63</td>\n",
       "      <td>0.013255</td>\n",
       "    </tr>\n",
       "    <tr>\n",
       "      <th>8</th>\n",
       "      <td>Italy</td>\n",
       "      <td>63</td>\n",
       "      <td>0.013255</td>\n",
       "    </tr>\n",
       "    <tr>\n",
       "      <th>9</th>\n",
       "      <td>New Zealand</td>\n",
       "      <td>50</td>\n",
       "      <td>0.010520</td>\n",
       "    </tr>\n",
       "  </tbody>\n",
       "</table>\n",
       "</div>"
      ],
      "text/plain": [
       "          country  entries  perOfTotal\n",
       "0   United States     3402    0.715758\n",
       "1         Germany      249    0.052388\n",
       "2          Canada      190    0.039975\n",
       "3         Belgium       89    0.018725\n",
       "4       Australia       80    0.016831\n",
       "5           Japan       71    0.014938\n",
       "6  United Kingdom       69    0.014517\n",
       "7          Brazil       63    0.013255\n",
       "8           Italy       63    0.013255\n",
       "9     New Zealand       50    0.010520"
      ]
     },
     "execution_count": 38,
     "metadata": {},
     "output_type": "execute_result"
    }
   ],
   "source": [
    "topTen2014 = entrants2014.sort_values('entries', axis=0, ascending=False).head(10)\n",
    "topTen2014.reset_index(drop=True)"
   ]
  },
  {
   "cell_type": "code",
   "execution_count": 39,
   "metadata": {
    "collapsed": false
   },
   "outputs": [
    {
     "data": {
      "text/html": [
       "<div>\n",
       "<table border=\"1\" class=\"dataframe\">\n",
       "  <thead>\n",
       "    <tr style=\"text-align: right;\">\n",
       "      <th></th>\n",
       "      <th>country</th>\n",
       "      <th>entries</th>\n",
       "      <th>perOfTotal</th>\n",
       "    </tr>\n",
       "  </thead>\n",
       "  <tbody>\n",
       "    <tr>\n",
       "      <th>56</th>\n",
       "      <td>United States</td>\n",
       "      <td>3402</td>\n",
       "      <td>0.715758</td>\n",
       "    </tr>\n",
       "    <tr>\n",
       "      <th>21</th>\n",
       "      <td>Germany</td>\n",
       "      <td>249</td>\n",
       "      <td>0.052388</td>\n",
       "    </tr>\n",
       "    <tr>\n",
       "      <th>8</th>\n",
       "      <td>Canada</td>\n",
       "      <td>190</td>\n",
       "      <td>0.039975</td>\n",
       "    </tr>\n",
       "    <tr>\n",
       "      <th>3</th>\n",
       "      <td>Belgium</td>\n",
       "      <td>89</td>\n",
       "      <td>0.018725</td>\n",
       "    </tr>\n",
       "    <tr>\n",
       "      <th>1</th>\n",
       "      <td>Australia</td>\n",
       "      <td>80</td>\n",
       "      <td>0.016831</td>\n",
       "    </tr>\n",
       "    <tr>\n",
       "      <th>31</th>\n",
       "      <td>Japan</td>\n",
       "      <td>71</td>\n",
       "      <td>0.014938</td>\n",
       "    </tr>\n",
       "    <tr>\n",
       "      <th>55</th>\n",
       "      <td>United Kingdom</td>\n",
       "      <td>69</td>\n",
       "      <td>0.014517</td>\n",
       "    </tr>\n",
       "    <tr>\n",
       "      <th>6</th>\n",
       "      <td>Brazil</td>\n",
       "      <td>63</td>\n",
       "      <td>0.013255</td>\n",
       "    </tr>\n",
       "    <tr>\n",
       "      <th>30</th>\n",
       "      <td>Italy</td>\n",
       "      <td>63</td>\n",
       "      <td>0.013255</td>\n",
       "    </tr>\n",
       "    <tr>\n",
       "      <th>38</th>\n",
       "      <td>New Zealand</td>\n",
       "      <td>50</td>\n",
       "      <td>0.010520</td>\n",
       "    </tr>\n",
       "  </tbody>\n",
       "</table>\n",
       "</div>"
      ],
      "text/plain": [
       "           country  entries  perOfTotal\n",
       "56   United States     3402    0.715758\n",
       "21         Germany      249    0.052388\n",
       "8           Canada      190    0.039975\n",
       "3          Belgium       89    0.018725\n",
       "1        Australia       80    0.016831\n",
       "31           Japan       71    0.014938\n",
       "55  United Kingdom       69    0.014517\n",
       "6           Brazil       63    0.013255\n",
       "30           Italy       63    0.013255\n",
       "38     New Zealand       50    0.010520"
      ]
     },
     "execution_count": 39,
     "metadata": {},
     "output_type": "execute_result"
    }
   ],
   "source": [
    "topTen2014"
   ]
  },
  {
   "cell_type": "code",
   "execution_count": 20,
   "metadata": {
    "collapsed": false
   },
   "outputs": [
    {
     "data": {
      "text/plain": [
       "0.910162002945508"
      ]
     },
     "execution_count": 20,
     "metadata": {},
     "output_type": "execute_result"
    }
   ],
   "source": [
    "np.sum(topTen2014.perOfTotal)"
   ]
  },
  {
   "cell_type": "code",
   "execution_count": 41,
   "metadata": {
    "collapsed": false
   },
   "outputs": [
    {
     "data": {
      "image/png": "[encoded data removed]",
      "text/plain": [
       "<matplotlib.figure.Figure at 0xc15dc88>"
      ]
     },
     "metadata": {},
     "output_type": "display_data"
    }
   ],
   "source": [
    "plt.figure(figsize=(12,8))\n",
    "sns.plt.title(\"2014 World Beer Cup Top 10 Country Entrants\")\n",
    "sns.barplot(topTen2014.country, topTen2014.entries, palette=\"BuGn_d\")\n",
    "sns.plt.xlabel(\"Country\")\n",
    "sns.plt.ylabel(\"Entries\")\n",
    "sns.plt.savefig('img/wbc_2014_top10entrants.png')"
   ]
  },
  {
   "cell_type": "markdown",
   "metadata": {},
   "source": [
    "## 2014 awards by country"
   ]
  },
  {
   "cell_type": "code",
   "execution_count": 46,
   "metadata": {
    "collapsed": false
   },
   "outputs": [
    {
     "name": "stdout",
     "output_type": "stream",
     "text": [
      "country    object\n",
      "awards      int64\n",
      "dtype: object\n",
      "(22, 3)\n"
     ]
    },
    {
     "data": {
      "text/html": [
       "<div>\n",
       "<table border=\"1\" class=\"dataframe\">\n",
       "  <thead>\n",
       "    <tr style=\"text-align: right;\">\n",
       "      <th></th>\n",
       "      <th>country</th>\n",
       "      <th>awards</th>\n",
       "      <th>perOfTot</th>\n",
       "    </tr>\n",
       "  </thead>\n",
       "  <tbody>\n",
       "    <tr>\n",
       "      <th>21</th>\n",
       "      <td>United States</td>\n",
       "      <td>205</td>\n",
       "      <td>0.729537</td>\n",
       "    </tr>\n",
       "    <tr>\n",
       "      <th>7</th>\n",
       "      <td>Germany</td>\n",
       "      <td>27</td>\n",
       "      <td>0.096085</td>\n",
       "    </tr>\n",
       "    <tr>\n",
       "      <th>4</th>\n",
       "      <td>Canada</td>\n",
       "      <td>7</td>\n",
       "      <td>0.024911</td>\n",
       "    </tr>\n",
       "    <tr>\n",
       "      <th>2</th>\n",
       "      <td>Belgium</td>\n",
       "      <td>5</td>\n",
       "      <td>0.017794</td>\n",
       "    </tr>\n",
       "    <tr>\n",
       "      <th>20</th>\n",
       "      <td>United Kingdom</td>\n",
       "      <td>5</td>\n",
       "      <td>0.017794</td>\n",
       "    </tr>\n",
       "    <tr>\n",
       "      <th>10</th>\n",
       "      <td>Italy</td>\n",
       "      <td>4</td>\n",
       "      <td>0.014235</td>\n",
       "    </tr>\n",
       "    <tr>\n",
       "      <th>14</th>\n",
       "      <td>Netherlands</td>\n",
       "      <td>3</td>\n",
       "      <td>0.010676</td>\n",
       "    </tr>\n",
       "    <tr>\n",
       "      <th>0</th>\n",
       "      <td>Australia</td>\n",
       "      <td>3</td>\n",
       "      <td>0.010676</td>\n",
       "    </tr>\n",
       "    <tr>\n",
       "      <th>5</th>\n",
       "      <td>Czech Republic</td>\n",
       "      <td>3</td>\n",
       "      <td>0.010676</td>\n",
       "    </tr>\n",
       "    <tr>\n",
       "      <th>11</th>\n",
       "      <td>Japan</td>\n",
       "      <td>3</td>\n",
       "      <td>0.010676</td>\n",
       "    </tr>\n",
       "    <tr>\n",
       "      <th>6</th>\n",
       "      <td>El Salvador</td>\n",
       "      <td>2</td>\n",
       "      <td>0.007117</td>\n",
       "    </tr>\n",
       "    <tr>\n",
       "      <th>1</th>\n",
       "      <td>Austria</td>\n",
       "      <td>2</td>\n",
       "      <td>0.007117</td>\n",
       "    </tr>\n",
       "    <tr>\n",
       "      <th>15</th>\n",
       "      <td>New Zealand</td>\n",
       "      <td>2</td>\n",
       "      <td>0.007117</td>\n",
       "    </tr>\n",
       "    <tr>\n",
       "      <th>3</th>\n",
       "      <td>Brazil</td>\n",
       "      <td>2</td>\n",
       "      <td>0.007117</td>\n",
       "    </tr>\n",
       "    <tr>\n",
       "      <th>8</th>\n",
       "      <td>Ireland</td>\n",
       "      <td>1</td>\n",
       "      <td>0.003559</td>\n",
       "    </tr>\n",
       "    <tr>\n",
       "      <th>9</th>\n",
       "      <td>Israel</td>\n",
       "      <td>1</td>\n",
       "      <td>0.003559</td>\n",
       "    </tr>\n",
       "    <tr>\n",
       "      <th>12</th>\n",
       "      <td>Latvia</td>\n",
       "      <td>1</td>\n",
       "      <td>0.003559</td>\n",
       "    </tr>\n",
       "    <tr>\n",
       "      <th>13</th>\n",
       "      <td>Mexico</td>\n",
       "      <td>1</td>\n",
       "      <td>0.003559</td>\n",
       "    </tr>\n",
       "    <tr>\n",
       "      <th>16</th>\n",
       "      <td>Poland</td>\n",
       "      <td>1</td>\n",
       "      <td>0.003559</td>\n",
       "    </tr>\n",
       "    <tr>\n",
       "      <th>17</th>\n",
       "      <td>South Korea</td>\n",
       "      <td>1</td>\n",
       "      <td>0.003559</td>\n",
       "    </tr>\n",
       "    <tr>\n",
       "      <th>18</th>\n",
       "      <td>Sweden</td>\n",
       "      <td>1</td>\n",
       "      <td>0.003559</td>\n",
       "    </tr>\n",
       "    <tr>\n",
       "      <th>19</th>\n",
       "      <td>Taiwan</td>\n",
       "      <td>1</td>\n",
       "      <td>0.003559</td>\n",
       "    </tr>\n",
       "  </tbody>\n",
       "</table>\n",
       "</div>"
      ],
      "text/plain": [
       "           country  awards  perOfTot\n",
       "21   United States     205  0.729537\n",
       "7          Germany      27  0.096085\n",
       "4           Canada       7  0.024911\n",
       "2          Belgium       5  0.017794\n",
       "20  United Kingdom       5  0.017794\n",
       "10           Italy       4  0.014235\n",
       "14     Netherlands       3  0.010676\n",
       "0        Australia       3  0.010676\n",
       "5   Czech Republic       3  0.010676\n",
       "11           Japan       3  0.010676\n",
       "6      El Salvador       2  0.007117\n",
       "1          Austria       2  0.007117\n",
       "15     New Zealand       2  0.007117\n",
       "3           Brazil       2  0.007117\n",
       "8          Ireland       1  0.003559\n",
       "9           Israel       1  0.003559\n",
       "12          Latvia       1  0.003559\n",
       "13          Mexico       1  0.003559\n",
       "16          Poland       1  0.003559\n",
       "17     South Korea       1  0.003559\n",
       "18          Sweden       1  0.003559\n",
       "19          Taiwan       1  0.003559"
      ]
     },
     "execution_count": 46,
     "metadata": {},
     "output_type": "execute_result"
    }
   ],
   "source": [
    "winners2014 = pd.read_csv('data/2014_award_counts_country.txt', header=None, names=['country', 'awards'])\n",
    "print winners2014.dtypes\n",
    "winners2014['perOfTot'] = winners2014.awards/np.sum(winners2014.awards)\n",
    "print winners2014.shape\n",
    "winners2014.sort_values('awards', axis=0, ascending=False)"
   ]
  },
  {
   "cell_type": "code",
   "execution_count": 47,
   "metadata": {
    "collapsed": false
   },
   "outputs": [
    {
     "data": {
      "text/html": [
       "<div>\n",
       "<table border=\"1\" class=\"dataframe\">\n",
       "  <thead>\n",
       "    <tr style=\"text-align: right;\">\n",
       "      <th></th>\n",
       "      <th>country</th>\n",
       "      <th>awards</th>\n",
       "      <th>perOfTot</th>\n",
       "    </tr>\n",
       "  </thead>\n",
       "  <tbody>\n",
       "    <tr>\n",
       "      <th>21</th>\n",
       "      <td>United States</td>\n",
       "      <td>205</td>\n",
       "      <td>0.729537</td>\n",
       "    </tr>\n",
       "    <tr>\n",
       "      <th>7</th>\n",
       "      <td>Germany</td>\n",
       "      <td>27</td>\n",
       "      <td>0.096085</td>\n",
       "    </tr>\n",
       "    <tr>\n",
       "      <th>4</th>\n",
       "      <td>Canada</td>\n",
       "      <td>7</td>\n",
       "      <td>0.024911</td>\n",
       "    </tr>\n",
       "    <tr>\n",
       "      <th>2</th>\n",
       "      <td>Belgium</td>\n",
       "      <td>5</td>\n",
       "      <td>0.017794</td>\n",
       "    </tr>\n",
       "    <tr>\n",
       "      <th>20</th>\n",
       "      <td>United Kingdom</td>\n",
       "      <td>5</td>\n",
       "      <td>0.017794</td>\n",
       "    </tr>\n",
       "    <tr>\n",
       "      <th>10</th>\n",
       "      <td>Italy</td>\n",
       "      <td>4</td>\n",
       "      <td>0.014235</td>\n",
       "    </tr>\n",
       "    <tr>\n",
       "      <th>14</th>\n",
       "      <td>Netherlands</td>\n",
       "      <td>3</td>\n",
       "      <td>0.010676</td>\n",
       "    </tr>\n",
       "    <tr>\n",
       "      <th>0</th>\n",
       "      <td>Australia</td>\n",
       "      <td>3</td>\n",
       "      <td>0.010676</td>\n",
       "    </tr>\n",
       "    <tr>\n",
       "      <th>5</th>\n",
       "      <td>Czech Republic</td>\n",
       "      <td>3</td>\n",
       "      <td>0.010676</td>\n",
       "    </tr>\n",
       "    <tr>\n",
       "      <th>11</th>\n",
       "      <td>Japan</td>\n",
       "      <td>3</td>\n",
       "      <td>0.010676</td>\n",
       "    </tr>\n",
       "  </tbody>\n",
       "</table>\n",
       "</div>"
      ],
      "text/plain": [
       "           country  awards  perOfTot\n",
       "21   United States     205  0.729537\n",
       "7          Germany      27  0.096085\n",
       "4           Canada       7  0.024911\n",
       "2          Belgium       5  0.017794\n",
       "20  United Kingdom       5  0.017794\n",
       "10           Italy       4  0.014235\n",
       "14     Netherlands       3  0.010676\n",
       "0        Australia       3  0.010676\n",
       "5   Czech Republic       3  0.010676\n",
       "11           Japan       3  0.010676"
      ]
     },
     "execution_count": 47,
     "metadata": {},
     "output_type": "execute_result"
    }
   ],
   "source": [
    "winners2014.sort_values('awards', axis=0, ascending=False).head(10)"
   ]
  },
  {
   "cell_type": "code",
   "execution_count": 49,
   "metadata": {
    "collapsed": false
   },
   "outputs": [
    {
     "data": {
      "text/plain": [
       "0.9430604982206405"
      ]
     },
     "execution_count": 49,
     "metadata": {},
     "output_type": "execute_result"
    }
   ],
   "source": [
    "np.sum(winners2014.sort_values('awards', axis=0, ascending=False).head(10)['perOfTot'])"
   ]
  },
  {
   "cell_type": "code",
   "execution_count": 51,
   "metadata": {
    "collapsed": false
   },
   "outputs": [
    {
     "data": {
      "text/html": [
       "<div>\n",
       "<table border=\"1\" class=\"dataframe\">\n",
       "  <thead>\n",
       "    <tr style=\"text-align: right;\">\n",
       "      <th></th>\n",
       "      <th>Unnamed: 0</th>\n",
       "      <th>award</th>\n",
       "      <th>beer</th>\n",
       "      <th>brewery</th>\n",
       "      <th>category</th>\n",
       "      <th>origin</th>\n",
       "      <th>year</th>\n",
       "      <th>city</th>\n",
       "      <th>country_state</th>\n",
       "      <th>country</th>\n",
       "      <th>category_num</th>\n",
       "      <th>entries</th>\n",
       "      <th>category_name</th>\n",
       "    </tr>\n",
       "  </thead>\n",
       "  <tbody>\n",
       "    <tr>\n",
       "      <th>2266</th>\n",
       "      <td>NaN</td>\n",
       "      <td>Bronze</td>\n",
       "      <td>Veritas 002</td>\n",
       "      <td>Port Brewing Co. and The Lost Abbey</td>\n",
       "      <td>Category 13: Experimental Beer (Lager or Ale),...</td>\n",
       "      <td>San Marcos, CA</td>\n",
       "      <td>2008</td>\n",
       "      <td>San Marcos</td>\n",
       "      <td>CA</td>\n",
       "      <td>USA</td>\n",
       "      <td>Category 13</td>\n",
       "      <td>27</td>\n",
       "      <td>Experimental Beer (Lager or Ale)</td>\n",
       "    </tr>\n",
       "    <tr>\n",
       "      <th>2267</th>\n",
       "      <td>NaN</td>\n",
       "      <td>Silver</td>\n",
       "      <td>Hopsquatch '06</td>\n",
       "      <td>Four Peaks Brewing Co.</td>\n",
       "      <td>Category 18: Aged Beer (Ale or Lager), 25 Entries</td>\n",
       "      <td>Tempe, AZ</td>\n",
       "      <td>2008</td>\n",
       "      <td>Tempe</td>\n",
       "      <td>AZ</td>\n",
       "      <td>USA</td>\n",
       "      <td>Category 18</td>\n",
       "      <td>25</td>\n",
       "      <td>Aged Beer (Ale or Lager)</td>\n",
       "    </tr>\n",
       "    <tr>\n",
       "      <th>2268</th>\n",
       "      <td>NaN</td>\n",
       "      <td>Gold</td>\n",
       "      <td>Alaskan Smoked Porter 2007</td>\n",
       "      <td>Alaskan Brewing Co.</td>\n",
       "      <td>Category 20: Smoke-Flavored Beer, 27 Entries</td>\n",
       "      <td>Juneau, AK</td>\n",
       "      <td>2008</td>\n",
       "      <td>Juneau</td>\n",
       "      <td>AK</td>\n",
       "      <td>USA</td>\n",
       "      <td>Category 20</td>\n",
       "      <td>27</td>\n",
       "      <td>Smoke-Flavored Beer</td>\n",
       "    </tr>\n",
       "    <tr>\n",
       "      <th>2269</th>\n",
       "      <td>NaN</td>\n",
       "      <td>Gold</td>\n",
       "      <td>Saint Arnold Divine Reserve No. 4</td>\n",
       "      <td>Saint Arnold Brewing Co</td>\n",
       "      <td>Category 64: Strong Scotch Ale, 43 Entries</td>\n",
       "      <td>Houston, TX</td>\n",
       "      <td>2008</td>\n",
       "      <td>Houston</td>\n",
       "      <td>TX</td>\n",
       "      <td>USA</td>\n",
       "      <td>Category 64</td>\n",
       "      <td>43</td>\n",
       "      <td>Strong Scotch Ale</td>\n",
       "    </tr>\n",
       "    <tr>\n",
       "      <th>2270</th>\n",
       "      <td>NaN</td>\n",
       "      <td>Silver</td>\n",
       "      <td>Hopsquatch '07</td>\n",
       "      <td>Four Peaks Brewing Co.</td>\n",
       "      <td>Category 68: Barley Wine-Style Ale, 61 Entries</td>\n",
       "      <td>Tempe, AZ</td>\n",
       "      <td>2008</td>\n",
       "      <td>Tempe</td>\n",
       "      <td>AZ</td>\n",
       "      <td>USA</td>\n",
       "      <td>Category 68</td>\n",
       "      <td>61</td>\n",
       "      <td>Barley Wine-Style Ale</td>\n",
       "    </tr>\n",
       "  </tbody>\n",
       "</table>\n",
       "</div>"
      ],
      "text/plain": [
       "      Unnamed: 0   award                               beer  \\\n",
       "2266         NaN  Bronze                        Veritas 002   \n",
       "2267         NaN  Silver                     Hopsquatch '06   \n",
       "2268         NaN    Gold         Alaskan Smoked Porter 2007   \n",
       "2269         NaN    Gold  Saint Arnold Divine Reserve No. 4   \n",
       "2270         NaN  Silver                     Hopsquatch '07   \n",
       "\n",
       "                                  brewery  \\\n",
       "2266  Port Brewing Co. and The Lost Abbey   \n",
       "2267               Four Peaks Brewing Co.   \n",
       "2268                  Alaskan Brewing Co.   \n",
       "2269              Saint Arnold Brewing Co   \n",
       "2270               Four Peaks Brewing Co.   \n",
       "\n",
       "                                               category          origin  year  \\\n",
       "2266  Category 13: Experimental Beer (Lager or Ale),...  San Marcos, CA  2008   \n",
       "2267  Category 18: Aged Beer (Ale or Lager), 25 Entries       Tempe, AZ  2008   \n",
       "2268       Category 20: Smoke-Flavored Beer, 27 Entries      Juneau, AK  2008   \n",
       "2269         Category 64: Strong Scotch Ale, 43 Entries     Houston, TX  2008   \n",
       "2270     Category 68: Barley Wine-Style Ale, 61 Entries       Tempe, AZ  2008   \n",
       "\n",
       "            city country_state country  category_num  entries  \\\n",
       "2266  San Marcos            CA     USA  Category 13        27   \n",
       "2267       Tempe            AZ     USA  Category 18        25   \n",
       "2268      Juneau            AK     USA  Category 20        27   \n",
       "2269     Houston            TX     USA  Category 64        43   \n",
       "2270       Tempe            AZ     USA  Category 68        61   \n",
       "\n",
       "                         category_name  \n",
       "2266  Experimental Beer (Lager or Ale)  \n",
       "2267          Aged Beer (Ale or Lager)  \n",
       "2268               Smoke-Flavored Beer  \n",
       "2269                 Strong Scotch Ale  \n",
       "2270             Barley Wine-Style Ale  "
      ]
     },
     "execution_count": 51,
     "metadata": {},
     "output_type": "execute_result"
    }
   ],
   "source": [
    "WBC = pd.read_csv('data/wbc_PDF98_14c.csv')\n",
    "WBC.tail()"
   ]
  },
  {
   "cell_type": "code",
   "execution_count": 56,
   "metadata": {
    "collapsed": false,
    "scrolled": true
   },
   "outputs": [
    {
     "name": "stdout",
     "output_type": "stream",
     "text": [
      "(202, 13)\n"
     ]
    },
    {
     "data": {
      "text/html": [
       "<div>\n",
       "<table border=\"1\" class=\"dataframe\">\n",
       "  <thead>\n",
       "    <tr style=\"text-align: right;\">\n",
       "      <th></th>\n",
       "      <th>Unnamed: 0</th>\n",
       "      <th>award</th>\n",
       "      <th>beer</th>\n",
       "      <th>brewery</th>\n",
       "      <th>category</th>\n",
       "      <th>origin</th>\n",
       "      <th>year</th>\n",
       "      <th>city</th>\n",
       "      <th>country_state</th>\n",
       "      <th>country</th>\n",
       "      <th>category_num</th>\n",
       "      <th>entries</th>\n",
       "      <th>category_name</th>\n",
       "    </tr>\n",
       "  </thead>\n",
       "  <tbody>\n",
       "    <tr>\n",
       "      <th>1939</th>\n",
       "      <td>1940</td>\n",
       "      <td>Gold</td>\n",
       "      <td>Float Trip</td>\n",
       "      <td>Piney River Brewing Co.</td>\n",
       "      <td>Category 1: American-Style Wheat Beer, 23 Entries</td>\n",
       "      <td>Bucyrus, MO</td>\n",
       "      <td>2014</td>\n",
       "      <td>Bucyrus</td>\n",
       "      <td>MO</td>\n",
       "      <td>USA</td>\n",
       "      <td>Category 1</td>\n",
       "      <td>23</td>\n",
       "      <td>American-Style Wheat Beer</td>\n",
       "    </tr>\n",
       "    <tr>\n",
       "      <th>1940</th>\n",
       "      <td>1941</td>\n",
       "      <td>Silver</td>\n",
       "      <td>Red Dawn</td>\n",
       "      <td>Carson�s Brewery</td>\n",
       "      <td>Category 1: American-Style Wheat Beer, 23 Entries</td>\n",
       "      <td>Evansville, IN</td>\n",
       "      <td>2014</td>\n",
       "      <td>Evansville</td>\n",
       "      <td>IN</td>\n",
       "      <td>USA</td>\n",
       "      <td>Category 1</td>\n",
       "      <td>23</td>\n",
       "      <td>American-Style Wheat Beer</td>\n",
       "    </tr>\n",
       "    <tr>\n",
       "      <th>1941</th>\n",
       "      <td>1942</td>\n",
       "      <td>Bronze</td>\n",
       "      <td>DD Blonde</td>\n",
       "      <td>Hop Valley Brewing Co.</td>\n",
       "      <td>Category 1: American-Style Wheat Beer, 23 Entries</td>\n",
       "      <td>Eugene, OR</td>\n",
       "      <td>2014</td>\n",
       "      <td>Eugene</td>\n",
       "      <td>OR</td>\n",
       "      <td>USA</td>\n",
       "      <td>Category 1</td>\n",
       "      <td>23</td>\n",
       "      <td>American-Style Wheat Beer</td>\n",
       "    </tr>\n",
       "    <tr>\n",
       "      <th>1942</th>\n",
       "      <td>1943</td>\n",
       "      <td>Gold</td>\n",
       "      <td>Hefeweizen</td>\n",
       "      <td>Widmer Brothers Brewing Co.</td>\n",
       "      <td>Category 2: American-Style Wheat Beer With Yea...</td>\n",
       "      <td>Portland, OR</td>\n",
       "      <td>2014</td>\n",
       "      <td>Portland</td>\n",
       "      <td>OR</td>\n",
       "      <td>USA</td>\n",
       "      <td>Category 2</td>\n",
       "      <td>25</td>\n",
       "      <td>American-Style Wheat Beer With Yeast</td>\n",
       "    </tr>\n",
       "    <tr>\n",
       "      <th>1943</th>\n",
       "      <td>1944</td>\n",
       "      <td>Silver</td>\n",
       "      <td>White Noise</td>\n",
       "      <td>�berbrew</td>\n",
       "      <td>Category 2: American-Style Wheat Beer With Yea...</td>\n",
       "      <td>Billings, MT</td>\n",
       "      <td>2014</td>\n",
       "      <td>Billings</td>\n",
       "      <td>MT</td>\n",
       "      <td>USA</td>\n",
       "      <td>Category 2</td>\n",
       "      <td>25</td>\n",
       "      <td>American-Style Wheat Beer With Yeast</td>\n",
       "    </tr>\n",
       "  </tbody>\n",
       "</table>\n",
       "</div>"
      ],
      "text/plain": [
       "      Unnamed: 0   award         beer                      brewery  \\\n",
       "1939        1940    Gold   Float Trip      Piney River Brewing Co.   \n",
       "1940        1941  Silver     Red Dawn             Carson�s Brewery   \n",
       "1941        1942  Bronze    DD Blonde       Hop Valley Brewing Co.   \n",
       "1942        1943    Gold   Hefeweizen  Widmer Brothers Brewing Co.   \n",
       "1943        1944  Silver  White Noise                     �berbrew   \n",
       "\n",
       "                                               category          origin  year  \\\n",
       "1939  Category 1: American-Style Wheat Beer, 23 Entries     Bucyrus, MO  2014   \n",
       "1940  Category 1: American-Style Wheat Beer, 23 Entries  Evansville, IN  2014   \n",
       "1941  Category 1: American-Style Wheat Beer, 23 Entries      Eugene, OR  2014   \n",
       "1942  Category 2: American-Style Wheat Beer With Yea...    Portland, OR  2014   \n",
       "1943  Category 2: American-Style Wheat Beer With Yea...    Billings, MT  2014   \n",
       "\n",
       "            city country_state country category_num  entries  \\\n",
       "1939     Bucyrus            MO     USA   Category 1       23   \n",
       "1940  Evansville            IN     USA   Category 1       23   \n",
       "1941      Eugene            OR     USA   Category 1       23   \n",
       "1942    Portland            OR     USA   Category 2       25   \n",
       "1943    Billings            MT     USA   Category 2       25   \n",
       "\n",
       "                              category_name  \n",
       "1939              American-Style Wheat Beer  \n",
       "1940              American-Style Wheat Beer  \n",
       "1941              American-Style Wheat Beer  \n",
       "1942   American-Style Wheat Beer With Yeast  \n",
       "1943   American-Style Wheat Beer With Yeast  "
      ]
     },
     "execution_count": 56,
     "metadata": {},
     "output_type": "execute_result"
    }
   ],
   "source": [
    "usa2014 = WBC[(WBC.country==\"USA\") & (WBC.year==2014)]\n",
    "print usa2014.shape\n",
    "usa2014.head()"
   ]
  },
  {
   "cell_type": "code",
   "execution_count": 60,
   "metadata": {
    "collapsed": false
   },
   "outputs": [],
   "source": [
    "states2014 = usa2014.groupby('country_state')"
   ]
  },
  {
   "cell_type": "code",
   "execution_count": 67,
   "metadata": {
    "collapsed": false
   },
   "outputs": [
    {
     "data": {
      "text/plain": [
       "country_state\n",
       "CA    36\n",
       "CO    22\n",
       "OR    17\n",
       "IL     8\n",
       "WA     8\n",
       "Name: award, dtype: int64"
      ]
     },
     "execution_count": 67,
     "metadata": {},
     "output_type": "execute_result"
    }
   ],
   "source": [
    "states2014.award.count().sort_values(ascending=False).head()"
   ]
  },
  {
   "cell_type": "markdown",
   "metadata": {},
   "source": [
    "### IBM data science workbench, \"Tutorial \\#2 - Explore & Visualize\""
   ]
  },
  {
   "cell_type": "code",
   "execution_count": 70,
   "metadata": {
    "collapsed": false
   },
   "outputs": [
    {
     "data": {
      "text/plain": [
       "Silver    764\n",
       "Bronze    754\n",
       "Gold      753\n",
       "Name: award, dtype: int64"
      ]
     },
     "execution_count": 70,
     "metadata": {},
     "output_type": "execute_result"
    }
   ],
   "source": [
    "WBC.award.value_counts()"
   ]
  },
  {
   "cell_type": "code",
   "execution_count": 72,
   "metadata": {
    "collapsed": false
   },
   "outputs": [
    {
     "data": {
      "text/plain": [
       "country    award \n",
       "Argentina  Bronze     1\n",
       "           Gold       2\n",
       "           Silver     1\n",
       "Australia  Bronze    13\n",
       "           Gold      14\n",
       "           Silver     9\n",
       "Austria    Bronze     4\n",
       "           Gold       5\n",
       "           Silver     7\n",
       "Belgium    Bronze    21\n",
       "           Gold      37\n",
       "           Silver    24\n",
       "dtype: int64"
      ]
     },
     "execution_count": 72,
     "metadata": {},
     "output_type": "execute_result"
    }
   ],
   "source": [
    "award_by_country = WBC.groupby(['country', 'award']).size()\n",
    "award_by_country.head(12)"
   ]
  },
  {
   "cell_type": "code",
   "execution_count": 74,
   "metadata": {
    "collapsed": false
   },
   "outputs": [
    {
     "data": {
      "text/html": [
       "<div>\n",
       "<table border=\"1\" class=\"dataframe\">\n",
       "  <thead>\n",
       "    <tr style=\"text-align: right;\">\n",
       "      <th>award</th>\n",
       "      <th>Bronze</th>\n",
       "      <th>Gold</th>\n",
       "      <th>Silver</th>\n",
       "    </tr>\n",
       "    <tr>\n",
       "      <th>country</th>\n",
       "      <th></th>\n",
       "      <th></th>\n",
       "      <th></th>\n",
       "    </tr>\n",
       "  </thead>\n",
       "  <tbody>\n",
       "    <tr>\n",
       "      <th>Argentina</th>\n",
       "      <td>1</td>\n",
       "      <td>2</td>\n",
       "      <td>1</td>\n",
       "    </tr>\n",
       "    <tr>\n",
       "      <th>Australia</th>\n",
       "      <td>13</td>\n",
       "      <td>14</td>\n",
       "      <td>9</td>\n",
       "    </tr>\n",
       "    <tr>\n",
       "      <th>Austria</th>\n",
       "      <td>4</td>\n",
       "      <td>5</td>\n",
       "      <td>7</td>\n",
       "    </tr>\n",
       "    <tr>\n",
       "      <th>Belgium</th>\n",
       "      <td>21</td>\n",
       "      <td>37</td>\n",
       "      <td>24</td>\n",
       "    </tr>\n",
       "    <tr>\n",
       "      <th>Bolivia</th>\n",
       "      <td>1</td>\n",
       "      <td>1</td>\n",
       "      <td>NaN</td>\n",
       "    </tr>\n",
       "  </tbody>\n",
       "</table>\n",
       "</div>"
      ],
      "text/plain": [
       "award      Bronze  Gold  Silver\n",
       "country                        \n",
       "Argentina       1     2       1\n",
       "Australia      13    14       9\n",
       "Austria         4     5       7\n",
       "Belgium        21    37      24\n",
       "Bolivia         1     1     NaN"
      ]
     },
     "execution_count": 74,
     "metadata": {},
     "output_type": "execute_result"
    }
   ],
   "source": [
    "award_by_country_df = award_by_country.unstack()\n",
    "award_by_country_df.head()"
   ]
  },
  {
   "cell_type": "code",
   "execution_count": 75,
   "metadata": {
    "collapsed": true
   },
   "outputs": [],
   "source": [
    "award_by_country_df.fillna(0, inplace=True)"
   ]
  },
  {
   "cell_type": "code",
   "execution_count": 76,
   "metadata": {
    "collapsed": false
   },
   "outputs": [
    {
     "data": {
      "text/plain": [
       "award\n",
       "Bronze    USA\n",
       "Gold      USA\n",
       "Silver    USA\n",
       "dtype: object"
      ]
     },
     "execution_count": 76,
     "metadata": {},
     "output_type": "execute_result"
    }
   ],
   "source": [
    "award_by_country_df.idxmax()"
   ]
  },
  {
   "cell_type": "code",
   "execution_count": 77,
   "metadata": {
    "collapsed": false
   },
   "outputs": [
    {
     "name": "stderr",
     "output_type": "stream",
     "text": [
      "C:\\Anaconda2\\lib\\site-packages\\ipykernel\\__main__.py:1: FutureWarning: sort(columns=....) is deprecated, use sort_values(by=.....)\n",
      "  if __name__ == '__main__':\n"
     ]
    }
   ],
   "source": [
    "award_by_country_df.sort('Gold', ascending=False, inplace=True)"
   ]
  },
  {
   "cell_type": "code",
   "execution_count": 79,
   "metadata": {
    "collapsed": false
   },
   "outputs": [
    {
     "data": {
      "text/html": [
       "<div>\n",
       "<table border=\"1\" class=\"dataframe\">\n",
       "  <thead>\n",
       "    <tr style=\"text-align: right;\">\n",
       "      <th>award</th>\n",
       "      <th>Gold</th>\n",
       "      <th>Silver</th>\n",
       "      <th>Bronze</th>\n",
       "    </tr>\n",
       "    <tr>\n",
       "      <th>country</th>\n",
       "      <th></th>\n",
       "      <th></th>\n",
       "      <th></th>\n",
       "    </tr>\n",
       "  </thead>\n",
       "  <tbody>\n",
       "    <tr>\n",
       "      <th>USA</th>\n",
       "      <td>534</td>\n",
       "      <td>529</td>\n",
       "      <td>532</td>\n",
       "    </tr>\n",
       "    <tr>\n",
       "      <th>Germany</th>\n",
       "      <td>63</td>\n",
       "      <td>67</td>\n",
       "      <td>64</td>\n",
       "    </tr>\n",
       "    <tr>\n",
       "      <th>Belgium</th>\n",
       "      <td>37</td>\n",
       "      <td>24</td>\n",
       "      <td>21</td>\n",
       "    </tr>\n",
       "    <tr>\n",
       "      <th>Canada</th>\n",
       "      <td>21</td>\n",
       "      <td>35</td>\n",
       "      <td>36</td>\n",
       "    </tr>\n",
       "    <tr>\n",
       "      <th>Japan</th>\n",
       "      <td>14</td>\n",
       "      <td>23</td>\n",
       "      <td>26</td>\n",
       "    </tr>\n",
       "    <tr>\n",
       "      <th>Australia</th>\n",
       "      <td>14</td>\n",
       "      <td>9</td>\n",
       "      <td>13</td>\n",
       "    </tr>\n",
       "    <tr>\n",
       "      <th>UK</th>\n",
       "      <td>11</td>\n",
       "      <td>8</td>\n",
       "      <td>6</td>\n",
       "    </tr>\n",
       "    <tr>\n",
       "      <th>Czech Republic</th>\n",
       "      <td>7</td>\n",
       "      <td>8</td>\n",
       "      <td>6</td>\n",
       "    </tr>\n",
       "    <tr>\n",
       "      <th>Singapore</th>\n",
       "      <td>5</td>\n",
       "      <td>1</td>\n",
       "      <td>1</td>\n",
       "    </tr>\n",
       "    <tr>\n",
       "      <th>Austria</th>\n",
       "      <td>5</td>\n",
       "      <td>7</td>\n",
       "      <td>4</td>\n",
       "    </tr>\n",
       "  </tbody>\n",
       "</table>\n",
       "</div>"
      ],
      "text/plain": [
       "award           Gold  Silver  Bronze\n",
       "country                             \n",
       "USA              534     529     532\n",
       "Germany           63      67      64\n",
       "Belgium           37      24      21\n",
       "Canada            21      35      36\n",
       "Japan             14      23      26\n",
       "Australia         14       9      13\n",
       "UK                11       8       6\n",
       "Czech Republic     7       8       6\n",
       "Singapore          5       1       1\n",
       "Austria            5       7       4"
      ]
     },
     "execution_count": 79,
     "metadata": {},
     "output_type": "execute_result"
    }
   ],
   "source": [
    "award_by_country_df = award_by_country_df[['Gold', 'Silver', 'Bronze']]\n",
    "award_by_country_df.head(10)"
   ]
  },
  {
   "cell_type": "code",
   "execution_count": 89,
   "metadata": {
    "collapsed": false
   },
   "outputs": [
    {
     "data": {
      "text/plain": [
       "<matplotlib.axes._subplots.AxesSubplot at 0xe3579b0>"
      ]
     },
     "execution_count": 89,
     "metadata": {},
     "output_type": "execute_result"
    },
    {
     "data": {
      "image/png": "[encoded data removed]",
      "text/plain": [
       "<matplotlib.figure.Figure at 0xdefefd0>"
      ]
     },
     "metadata": {},
     "output_type": "display_data"
    }
   ],
   "source": [
    "award_by_country_df[:10].plot(kind='bar', figsize=(12,10), colormap='winter')"
   ]
  },
  {
   "cell_type": "code",
   "execution_count": 119,
   "metadata": {
    "collapsed": false
   },
   "outputs": [
    {
     "data": {
      "text/plain": [
       "<matplotlib.axes._subplots.AxesSubplot at 0x1346ae48>"
      ]
     },
     "execution_count": 119,
     "metadata": {},
     "output_type": "execute_result"
    },
    {
     "data": {
      "image/png": "[encoded data removed]",
      "text/plain": [
       "<matplotlib.figure.Figure at 0xf816c18>"
      ]
     },
     "metadata": {},
     "output_type": "display_data"
    }
   ],
   "source": [
    "plot_colors = ['gold', 'silver', 'saddlebrown']\n",
    "award_by_country_df[:10].plot(kind='bar', figsize=(12,10), color=plot_colors)"
   ]
  },
  {
   "cell_type": "code",
   "execution_count": 90,
   "metadata": {
    "collapsed": false
   },
   "outputs": [
    {
     "data": {
      "text/plain": [
       "year\n",
       "1996     99\n",
       "1998    118\n",
       "2000    118\n",
       "2002    141\n",
       "2004    157\n",
       "2006    159\n",
       "2008    190\n",
       "2010    203\n",
       "2012    208\n",
       "2014    202\n",
       "dtype: int64"
      ]
     },
     "execution_count": 90,
     "metadata": {},
     "output_type": "execute_result"
    }
   ],
   "source": [
    "usa_award_year = WBC[WBC.country==\"USA\"].groupby('year').size()\n",
    "usa_award_year"
   ]
  },
  {
   "cell_type": "code",
   "execution_count": 91,
   "metadata": {
    "collapsed": false
   },
   "outputs": [
    {
     "data": {
      "text/plain": [
       "<matplotlib.axes._subplots.AxesSubplot at 0xe37c0f0>"
      ]
     },
     "execution_count": 91,
     "metadata": {},
     "output_type": "execute_result"
    },
    {
     "data": {
      "image/png": "[encoded data removed]",
      "text/plain": [
       "<matplotlib.figure.Figure at 0xf196e48>"
      ]
     },
     "metadata": {},
     "output_type": "display_data"
    }
   ],
   "source": [
    "usa_award_year.plot(kind='bar', figsize=(12,6))"
   ]
  },
  {
   "cell_type": "markdown",
   "metadata": {},
   "source": [
    "### IBM data science workbench, \"Tutorial \\#4 - Analyze Data\""
   ]
  },
  {
   "cell_type": "code",
   "execution_count": 92,
   "metadata": {
    "collapsed": false
   },
   "outputs": [
    {
     "data": {
      "image/png": "[encoded data removed]",
      "text/plain": [
       "<matplotlib.figure.Figure at 0xf3defd0>"
      ]
     },
     "metadata": {},
     "output_type": "display_data"
    }
   ],
   "source": [
    "from IPython.core.pylabtools import figsize\n",
    "plt.rcParams['axes.facecolor'] = '#F5F5F5'\n",
    "\n",
    "figsize(11, 6)\n",
    "\n",
    "import scipy.stats as stats\n",
    "a = np.arange(30)\n",
    "poi = stats.poisson\n",
    "lambdas = [2.5, 14.5]\n",
    "colors = [\"#6B6A96\", \"#943A45\"]\n",
    "\n",
    "# plot a Poisson distribution for each lambda\n",
    "for lambda_, color in zip(lambdas, colors):\n",
    "    plt.bar(a, poi.pmf(a, lambda_), color=color,\n",
    "            label=\"$\\lambda = %.1f$\" % lambda_, alpha=0.50,\n",
    "            edgecolor=color, lw=\"1.5\")\n",
    "\n",
    "plt.title(\"Probability mass function of a Poisson random variable\")\n",
    "plt.legend()\n",
    "plt.grid()\n",
    "plt.ylabel(\"probability of $n$\")\n",
    "plt.xticks(a + 0.4, a)\n",
    "plt.xlabel(\"$n$\")\n",
    "plt.show()"
   ]
  },
  {
   "cell_type": "code",
   "execution_count": 95,
   "metadata": {
    "collapsed": false
   },
   "outputs": [],
   "source": [
    "# conda install -c https://conda.binstar.org/pymc pymc"
   ]
  },
  {
   "cell_type": "code",
   "execution_count": 96,
   "metadata": {
    "collapsed": false
   },
   "outputs": [],
   "source": [
    "import pymc as pm\n",
    "import numpy as np\n",
    "\n",
    "def make_model(data):\n",
    "    '''\n",
    "    Create a model for use in predicting lambda_1, lambda_2, and tau,\n",
    "    which combine to create our posterior probability distributions\n",
    "    (one before tau, and one after tau).\n",
    "    '''\n",
    "    # prior lambda estimates\n",
    "    alpha = 1.0 / data.mean() \n",
    "    lambda_1 = pm.Exponential(\"lambda_1\", alpha)\n",
    "    lambda_2 = pm.Exponential(\"lambda_2\", alpha)\n",
    "    # prior tau estimates\n",
    "    tau = pm.DiscreteUniform(\"tau\", lower=0, upper=len(data))\n",
    "\n",
    "    @pm.deterministic\n",
    "    def lambda_(tau=tau, lambda_1=lambda_1, lambda_2=lambda_2):\n",
    "        '''Create random value of lambda, based on prior lambda.'''\n",
    "        out = np.zeros(len(data))\n",
    "        out[:tau] = lambda_1  # lambda before tau\n",
    "        out[tau:] = lambda_2  # lambda after (and including) tau\n",
    "        return out\n",
    "    \n",
    "    # lambda is Poisson distributed\n",
    "    observation = pm.Poisson(\"obs\", lambda_, value=data.values, observed=True)\n",
    "\n",
    "    model = pm.Model([observation, lambda_1, lambda_2, tau])\n",
    "    return model"
   ]
  },
  {
   "cell_type": "code",
   "execution_count": 97,
   "metadata": {
    "collapsed": true
   },
   "outputs": [],
   "source": [
    "model = make_model(usa_award_year)"
   ]
  },
  {
   "cell_type": "code",
   "execution_count": 98,
   "metadata": {
    "collapsed": false
   },
   "outputs": [
    {
     "name": "stdout",
     "output_type": "stream",
     "text": [
      " [-----------------100%-----------------] 50000 of 50000 complete in 10.7 sec"
     ]
    }
   ],
   "source": [
    "mcmc = pm.MCMC(model)\n",
    "mcmc.sample(50000, 10000, 1)"
   ]
  },
  {
   "cell_type": "code",
   "execution_count": 99,
   "metadata": {
    "collapsed": true
   },
   "outputs": [],
   "source": [
    "lambda_1_samples = mcmc.trace('lambda_1')[:]\n",
    "lambda_2_samples = mcmc.trace('lambda_2')[:]\n",
    "tau_samples = mcmc.trace('tau')[:]"
   ]
  },
  {
   "cell_type": "code",
   "execution_count": 121,
   "metadata": {
    "collapsed": false
   },
   "outputs": [
    {
     "data": {
      "image/png": "[encoded data removed]",
      "text/plain": [
       "<matplotlib.figure.Figure at 0xe198fd0>"
      ]
     },
     "metadata": {},
     "output_type": "display_data"
    }
   ],
   "source": [
    "# our data\n",
    "data = usa_award_year\n",
    "n_data = len(data)\n",
    "years = data.index.values\n",
    "\n",
    "figsize(10, 12)\n",
    "xticks = np.arange(80, 200, 10)\n",
    "yticks = np.arange(0.0, 1.1, 0.1)\n",
    "\n",
    "# lambda_1\n",
    "ax = plt.subplot(311)\n",
    "ax.set_autoscaley_on(False)\n",
    "plt.hist(lambda_1_samples, histtype='stepfilled', bins=30, alpha=0.65,\n",
    "         label=\"posterior of $\\lambda_1$\", color=\"#6B6A96\", normed=True)\n",
    "plt.legend(loc=\"upper left\")\n",
    "plt.xticks(xticks)\n",
    "# plt.yticks(yticks)\n",
    "plt.ylim([0., .06])\n",
    "plt.xlabel(\"$\\lambda_1$ value\")\n",
    "plt.ylabel(\"probability\");\n",
    "plt.title(r\"\"\"Posterior distributions of $\\lambda_1,\\;\\lambda_2,\\;\\tau$\"\"\")\n",
    "plt.grid()\n",
    "\n",
    "# lambda_2\n",
    "ax = plt.subplot(312)\n",
    "ax.set_autoscaley_on(False)\n",
    "plt.hist(lambda_2_samples, histtype='stepfilled', bins=30, alpha=0.65,\n",
    "         label=\"posterior of $\\lambda_2$\", color=\"#943A45\", normed=True)\n",
    "plt.legend(loc=\"upper left\")\n",
    "plt.xticks(xticks)\n",
    "# plt.xlim([xticks.min(), xticks.max()])\n",
    "plt.xlim([150, 250])\n",
    "# plt.yticks(yticks)\n",
    "plt.ylim([0., .06])\n",
    "plt.xlabel(\"$\\lambda_2$ value\")\n",
    "plt.ylabel(\"probability\");\n",
    "plt.grid()\n",
    "\n",
    "# tau\n",
    "ax = plt.subplot(313)\n",
    "w = 1.0 / tau_samples.shape[0] * np.ones_like(tau_samples)\n",
    "plt.hist(tau_samples, bins=n_data, alpha=1,\n",
    "         label=r\"posterior of $\\tau$\",\n",
    "         color=\"#799631\", weights=w, rwidth=2.)\n",
    "plt.legend(loc=\"upper left\")\n",
    "plt.xticks(np.arange(n_data), years, rotation='vertical')\n",
    "plt.yticks(yticks)\n",
    "plt.xlabel(r\"$\\tau$ (year of Cup)\")\n",
    "plt.ylabel(\"probability\");\n",
    "plt.grid()"
   ]
  },
  {
   "cell_type": "code",
   "execution_count": 102,
   "metadata": {
    "collapsed": false,
    "scrolled": true
   },
   "outputs": [
    {
     "name": "stderr",
     "output_type": "stream",
     "text": [
      "C:\\Anaconda2\\lib\\site-packages\\ipykernel\\__main__.py:6: FutureWarning: the 'cols' keyword is deprecated, use 'subset' instead\n"
     ]
    },
    {
     "data": {
      "text/plain": [
       "<matplotlib.text.Text at 0xf63e9b0>"
      ]
     },
     "execution_count": 102,
     "metadata": {},
     "output_type": "execute_result"
    },
    {
     "data": {
      "image/png": "[encoded data removed]",
      "text/plain": [
       "<matplotlib.figure.Figure at 0x1311e1d0>"
      ]
     },
     "metadata": {},
     "output_type": "display_data"
    }
   ],
   "source": [
    "# plot medals awarded per games\n",
    "ax = WBC.groupby('year').size()\\\n",
    ".plot(figsize=(10,5), legend=True, label='Medals')\n",
    "ax.set_ylabel('award')\n",
    "\n",
    "# plot events per games\n",
    "events_year = WBC.drop_duplicates(cols=['year', 'category_name'])\\\n",
    ".groupby('year').size()\n",
    "events_year.plot(secondary_y=True, legend=True, label='Events', mark_right=False)\n",
    "ax.right_ax.set_ylabel('Events')"
   ]
  },
  {
   "cell_type": "markdown",
   "metadata": {},
   "source": [
    "## category entries heatmap\n",
    "- https://stanford.edu/~mwaskom/software/seaborn/generated/seaborn.heatmap.html"
   ]
  },
  {
   "cell_type": "code",
   "execution_count": null,
   "metadata": {
    "collapsed": true
   },
   "outputs": [],
   "source": []
  }
 ],
 "metadata": {
  "kernelspec": {
   "display_name": "Python 2",
   "language": "python",
   "name": "python2"
  },
  "language_info": {
   "codemirror_mode": {
    "name": "ipython",
    "version": 2
   },
   "file_extension": ".py",
   "mimetype": "text/x-python",
   "name": "python",
   "nbconvert_exporter": "python",
   "pygments_lexer": "ipython2",
   "version": "2.7.11"
  }
 },
 "nbformat": 4,
 "nbformat_minor": 0
}
