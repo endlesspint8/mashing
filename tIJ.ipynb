{
 "cells": [
  {
   "cell_type": "code",
   "execution_count": 1,
   "metadata": {
    "collapsed": false
   },
   "outputs": [],
   "source": [
    "import os, csv\n",
    "import numpy as np\n",
    "import pandas as pd\n",
    "\n",
    "import matplotlib.pyplot as plt\n",
    "import matplotlib\n",
    "matplotlib.style.use('ggplot')\n",
    "%matplotlib inline"
   ]
  },
  {
   "cell_type": "markdown",
   "metadata": {},
   "source": [
    "# data loading"
   ]
  },
  {
   "cell_type": "code",
   "execution_count": 2,
   "metadata": {
    "collapsed": false
   },
   "outputs": [
    {
     "name": "stdout",
     "output_type": "stream",
     "text": [
      "['rb_reviews_alesmith_ipa.txt', 'rb_reviews_ballastpoint_sculpin.txt', 'rb_reviews_bells_twohearted.txt', 'rb_reviews_lagunitas_ipa.txt', 'rb_reviews_russianriver_blindpig.txt', 'rb_reviews_stone_ipa.txt', 'rb_reviews_surly_furious.txt', 'rb_reviews_tij_ipa.txt', 'rb_reviews_troegs_nuggetnectar.txt']\n"
     ]
    }
   ],
   "source": [
    "ipa_ratings = [file for file in os.listdir('tIJ_IPA/') if file[-3:] == 'txt']\n",
    "print ipa_ratings"
   ]
  },
  {
   "cell_type": "code",
   "execution_count": 3,
   "metadata": {
    "collapsed": false
   },
   "outputs": [
    {
     "name": "stdout",
     "output_type": "stream",
     "text": [
      "(7503, 9)\n"
     ]
    },
    {
     "data": {
      "text/html": [
       "<div>\n",
       "<table border=\"1\" class=\"dataframe\">\n",
       "  <thead>\n",
       "    <tr style=\"text-align: right;\">\n",
       "      <th></th>\n",
       "      <th>alesmith</th>\n",
       "      <th>ballastpoint</th>\n",
       "      <th>bells</th>\n",
       "      <th>lagunitas</th>\n",
       "      <th>russianriver</th>\n",
       "      <th>stone</th>\n",
       "      <th>surly</th>\n",
       "      <th>tij</th>\n",
       "      <th>troegs</th>\n",
       "    </tr>\n",
       "  </thead>\n",
       "  <tbody>\n",
       "    <tr>\n",
       "      <th>00cobraR</th>\n",
       "      <td>4.0</td>\n",
       "      <td>NaN</td>\n",
       "      <td>4.4</td>\n",
       "      <td>3.6</td>\n",
       "      <td>4.0</td>\n",
       "      <td>4.0</td>\n",
       "      <td>NaN</td>\n",
       "      <td>NaN</td>\n",
       "      <td>NaN</td>\n",
       "    </tr>\n",
       "    <tr>\n",
       "      <th>09maso3</th>\n",
       "      <td>NaN</td>\n",
       "      <td>NaN</td>\n",
       "      <td>NaN</td>\n",
       "      <td>NaN</td>\n",
       "      <td>NaN</td>\n",
       "      <td>3.9</td>\n",
       "      <td>NaN</td>\n",
       "      <td>NaN</td>\n",
       "      <td>NaN</td>\n",
       "    </tr>\n",
       "    <tr>\n",
       "      <th>0o9i</th>\n",
       "      <td>4.3</td>\n",
       "      <td>3.5</td>\n",
       "      <td>NaN</td>\n",
       "      <td>3.7</td>\n",
       "      <td>4.1</td>\n",
       "      <td>4.4</td>\n",
       "      <td>NaN</td>\n",
       "      <td>NaN</td>\n",
       "      <td>NaN</td>\n",
       "    </tr>\n",
       "    <tr>\n",
       "      <th>1001</th>\n",
       "      <td>NaN</td>\n",
       "      <td>NaN</td>\n",
       "      <td>NaN</td>\n",
       "      <td>NaN</td>\n",
       "      <td>NaN</td>\n",
       "      <td>NaN</td>\n",
       "      <td>NaN</td>\n",
       "      <td>NaN</td>\n",
       "      <td>3.8</td>\n",
       "    </tr>\n",
       "    <tr>\n",
       "      <th>1010</th>\n",
       "      <td>NaN</td>\n",
       "      <td>NaN</td>\n",
       "      <td>4.2</td>\n",
       "      <td>NaN</td>\n",
       "      <td>NaN</td>\n",
       "      <td>3.7</td>\n",
       "      <td>NaN</td>\n",
       "      <td>NaN</td>\n",
       "      <td>NaN</td>\n",
       "    </tr>\n",
       "  </tbody>\n",
       "</table>\n",
       "</div>"
      ],
      "text/plain": [
       "          alesmith  ballastpoint  bells  lagunitas  russianriver  stone  \\\n",
       "00cobraR       4.0           NaN    4.4        3.6           4.0    4.0   \n",
       "09maso3        NaN           NaN    NaN        NaN           NaN    3.9   \n",
       "0o9i           4.3           3.5    NaN        3.7           4.1    4.4   \n",
       "1001           NaN           NaN    NaN        NaN           NaN    NaN   \n",
       "1010           NaN           NaN    4.2        NaN           NaN    3.7   \n",
       "\n",
       "          surly  tij  troegs  \n",
       "00cobraR    NaN  NaN     NaN  \n",
       "09maso3     NaN  NaN     NaN  \n",
       "0o9i        NaN  NaN     NaN  \n",
       "1001        NaN  NaN     3.8  \n",
       "1010        NaN  NaN     NaN  "
      ]
     },
     "execution_count": 3,
     "metadata": {},
     "output_type": "execute_result"
    }
   ],
   "source": [
    "d = {}\n",
    "\n",
    "for ipa in ipa_ratings:\n",
    "    ipa_file = 'tIJ_IPA/' + ipa\n",
    "    ipa_name = (ipa.split('_')[2])\n",
    "    with open(ipa_file, 'r') as f:\n",
    "        next(f)\n",
    "        temp_dict = {}\n",
    "        for line in f:\n",
    "            line = line.strip()\n",
    "            key, val = line.split('\\t')\n",
    "            temp_dict[key] = float(val)\n",
    "\n",
    "        d[ipa_name] = temp_dict\n",
    "        \n",
    "df_ipa = pd.DataFrame.from_dict(d)\n",
    "print df_ipa.shape\n",
    "df_ipa.head()"
   ]
  },
  {
   "cell_type": "markdown",
   "metadata": {},
   "source": [
    "# export"
   ]
  },
  {
   "cell_type": "code",
   "execution_count": 4,
   "metadata": {
    "collapsed": false,
    "scrolled": true
   },
   "outputs": [],
   "source": [
    "# df_ipa.to_csv('tIJ_IPA/ipa_listing.csv')"
   ]
  },
  {
   "cell_type": "markdown",
   "metadata": {},
   "source": [
    "# dummy plots"
   ]
  },
  {
   "cell_type": "code",
   "execution_count": 5,
   "metadata": {
    "collapsed": false
   },
   "outputs": [
    {
     "data": {
      "text/plain": [
       "<matplotlib.axes._subplots.AxesSubplot at 0x92b14a8>"
      ]
     },
     "execution_count": 5,
     "metadata": {},
     "output_type": "execute_result"
    },
    {
     "data": {
      "image/png": "[encoded data removed]",
      "text/plain": [
       "<matplotlib.figure.Figure at 0x3f55cc0>"
      ]
     },
     "metadata": {},
     "output_type": "display_data"
    }
   ],
   "source": [
    "df_ipa.plot.box()"
   ]
  },
  {
   "cell_type": "code",
   "execution_count": 6,
   "metadata": {
    "collapsed": false
   },
   "outputs": [
    {
     "data": {
      "text/plain": [
       "<matplotlib.axes._subplots.AxesSubplot at 0x9eb0a90>"
      ]
     },
     "execution_count": 6,
     "metadata": {},
     "output_type": "execute_result"
    },
    {
     "data": {
      "image/png": "[encoded data removed]",
      "text/plain": [
       "<matplotlib.figure.Figure at 0x9ecadd8>"
      ]
     },
     "metadata": {},
     "output_type": "display_data"
    }
   ],
   "source": [
    "df_ipa.plot.hist(alpha=0.5)"
   ]
  },
  {
   "cell_type": "markdown",
   "metadata": {},
   "source": [
    "# some investigation"
   ]
  },
  {
   "cell_type": "code",
   "execution_count": 7,
   "metadata": {
    "collapsed": false
   },
   "outputs": [
    {
     "name": "stdout",
     "output_type": "stream",
     "text": [
      "(3950, 10)\n"
     ]
    },
    {
     "data": {
      "text/html": [
       "<div>\n",
       "<table border=\"1\" class=\"dataframe\">\n",
       "  <thead>\n",
       "    <tr style=\"text-align: right;\">\n",
       "      <th></th>\n",
       "      <th>alesmith</th>\n",
       "      <th>ballastpoint</th>\n",
       "      <th>bells</th>\n",
       "      <th>lagunitas</th>\n",
       "      <th>russianriver</th>\n",
       "      <th>stone</th>\n",
       "      <th>surly</th>\n",
       "      <th>tij</th>\n",
       "      <th>troegs</th>\n",
       "      <th>ratings_cnt</th>\n",
       "    </tr>\n",
       "  </thead>\n",
       "  <tbody>\n",
       "    <tr>\n",
       "      <th>00cobraR</th>\n",
       "      <td>4.0</td>\n",
       "      <td>NaN</td>\n",
       "      <td>4.4</td>\n",
       "      <td>3.6</td>\n",
       "      <td>4.0</td>\n",
       "      <td>4.0</td>\n",
       "      <td>NaN</td>\n",
       "      <td>NaN</td>\n",
       "      <td>NaN</td>\n",
       "      <td>5</td>\n",
       "    </tr>\n",
       "    <tr>\n",
       "      <th>0o9i</th>\n",
       "      <td>4.3</td>\n",
       "      <td>3.5</td>\n",
       "      <td>NaN</td>\n",
       "      <td>3.7</td>\n",
       "      <td>4.1</td>\n",
       "      <td>4.4</td>\n",
       "      <td>NaN</td>\n",
       "      <td>NaN</td>\n",
       "      <td>NaN</td>\n",
       "      <td>5</td>\n",
       "    </tr>\n",
       "    <tr>\n",
       "      <th>1010</th>\n",
       "      <td>NaN</td>\n",
       "      <td>NaN</td>\n",
       "      <td>4.2</td>\n",
       "      <td>NaN</td>\n",
       "      <td>NaN</td>\n",
       "      <td>3.7</td>\n",
       "      <td>NaN</td>\n",
       "      <td>NaN</td>\n",
       "      <td>NaN</td>\n",
       "      <td>2</td>\n",
       "    </tr>\n",
       "    <tr>\n",
       "      <th>11026</th>\n",
       "      <td>4.6</td>\n",
       "      <td>NaN</td>\n",
       "      <td>4.3</td>\n",
       "      <td>3.1</td>\n",
       "      <td>NaN</td>\n",
       "      <td>3.7</td>\n",
       "      <td>NaN</td>\n",
       "      <td>NaN</td>\n",
       "      <td>4.2</td>\n",
       "      <td>5</td>\n",
       "    </tr>\n",
       "    <tr>\n",
       "      <th>123456green</th>\n",
       "      <td>4.4</td>\n",
       "      <td>NaN</td>\n",
       "      <td>4.0</td>\n",
       "      <td>NaN</td>\n",
       "      <td>2.5</td>\n",
       "      <td>4.2</td>\n",
       "      <td>NaN</td>\n",
       "      <td>NaN</td>\n",
       "      <td>NaN</td>\n",
       "      <td>4</td>\n",
       "    </tr>\n",
       "  </tbody>\n",
       "</table>\n",
       "</div>"
      ],
      "text/plain": [
       "             alesmith  ballastpoint  bells  lagunitas  russianriver  stone  \\\n",
       "00cobraR          4.0           NaN    4.4        3.6           4.0    4.0   \n",
       "0o9i              4.3           3.5    NaN        3.7           4.1    4.4   \n",
       "1010              NaN           NaN    4.2        NaN           NaN    3.7   \n",
       "11026             4.6           NaN    4.3        3.1           NaN    3.7   \n",
       "123456green       4.4           NaN    4.0        NaN           2.5    4.2   \n",
       "\n",
       "             surly  tij  troegs  ratings_cnt  \n",
       "00cobraR       NaN  NaN     NaN            5  \n",
       "0o9i           NaN  NaN     NaN            5  \n",
       "1010           NaN  NaN     NaN            2  \n",
       "11026          NaN  NaN     4.2            5  \n",
       "123456green    NaN  NaN     NaN            4  "
      ]
     },
     "execution_count": 7,
     "metadata": {},
     "output_type": "execute_result"
    }
   ],
   "source": [
    "df_ipa['ratings_cnt'] = df_ipa.notnull().sum(axis=1)\n",
    "\n",
    "print df_ipa[df_ipa.ratings_cnt > 1].shape\n",
    "df_ipa[df_ipa.ratings_cnt > 1].head()"
   ]
  },
  {
   "cell_type": "code",
   "execution_count": 8,
   "metadata": {
    "collapsed": false
   },
   "outputs": [
    {
     "data": {
      "text/html": [
       "<div>\n",
       "<table border=\"1\" class=\"dataframe\">\n",
       "  <thead>\n",
       "    <tr style=\"text-align: right;\">\n",
       "      <th></th>\n",
       "      <th>alesmith</th>\n",
       "      <th>ballastpoint</th>\n",
       "      <th>bells</th>\n",
       "      <th>lagunitas</th>\n",
       "      <th>russianriver</th>\n",
       "      <th>stone</th>\n",
       "      <th>surly</th>\n",
       "      <th>tij</th>\n",
       "      <th>troegs</th>\n",
       "      <th>ratings_cnt</th>\n",
       "    </tr>\n",
       "  </thead>\n",
       "  <tbody>\n",
       "    <tr>\n",
       "      <th>20107589</th>\n",
       "      <td>3.7</td>\n",
       "      <td>NaN</td>\n",
       "      <td>NaN</td>\n",
       "      <td>3.6</td>\n",
       "      <td>NaN</td>\n",
       "      <td>NaN</td>\n",
       "      <td>NaN</td>\n",
       "      <td>3.9</td>\n",
       "      <td>NaN</td>\n",
       "      <td>3</td>\n",
       "    </tr>\n",
       "    <tr>\n",
       "      <th>77ships</th>\n",
       "      <td>4.1</td>\n",
       "      <td>4.4</td>\n",
       "      <td>4.6</td>\n",
       "      <td>NaN</td>\n",
       "      <td>NaN</td>\n",
       "      <td>3.8</td>\n",
       "      <td>NaN</td>\n",
       "      <td>3.6</td>\n",
       "      <td>NaN</td>\n",
       "      <td>5</td>\n",
       "    </tr>\n",
       "    <tr>\n",
       "      <th>Abijen</th>\n",
       "      <td>NaN</td>\n",
       "      <td>4.0</td>\n",
       "      <td>NaN</td>\n",
       "      <td>NaN</td>\n",
       "      <td>NaN</td>\n",
       "      <td>NaN</td>\n",
       "      <td>NaN</td>\n",
       "      <td>4.2</td>\n",
       "      <td>NaN</td>\n",
       "      <td>2</td>\n",
       "    </tr>\n",
       "    <tr>\n",
       "      <th>Abrakarl</th>\n",
       "      <td>NaN</td>\n",
       "      <td>4.1</td>\n",
       "      <td>NaN</td>\n",
       "      <td>3.6</td>\n",
       "      <td>NaN</td>\n",
       "      <td>4.4</td>\n",
       "      <td>NaN</td>\n",
       "      <td>2.5</td>\n",
       "      <td>NaN</td>\n",
       "      <td>4</td>\n",
       "    </tr>\n",
       "    <tr>\n",
       "      <th>Alengrin</th>\n",
       "      <td>4.3</td>\n",
       "      <td>4.0</td>\n",
       "      <td>4.3</td>\n",
       "      <td>3.8</td>\n",
       "      <td>NaN</td>\n",
       "      <td>4.4</td>\n",
       "      <td>NaN</td>\n",
       "      <td>3.4</td>\n",
       "      <td>4.1</td>\n",
       "      <td>7</td>\n",
       "    </tr>\n",
       "  </tbody>\n",
       "</table>\n",
       "</div>"
      ],
      "text/plain": [
       "          alesmith  ballastpoint  bells  lagunitas  russianriver  stone  \\\n",
       "20107589       3.7           NaN    NaN        3.6           NaN    NaN   \n",
       "77ships        4.1           4.4    4.6        NaN           NaN    3.8   \n",
       "Abijen         NaN           4.0    NaN        NaN           NaN    NaN   \n",
       "Abrakarl       NaN           4.1    NaN        3.6           NaN    4.4   \n",
       "Alengrin       4.3           4.0    4.3        3.8           NaN    4.4   \n",
       "\n",
       "          surly  tij  troegs  ratings_cnt  \n",
       "20107589    NaN  3.9     NaN            3  \n",
       "77ships     NaN  3.6     NaN            5  \n",
       "Abijen      NaN  4.2     NaN            2  \n",
       "Abrakarl    NaN  2.5     NaN            4  \n",
       "Alengrin    NaN  3.4     4.1            7  "
      ]
     },
     "execution_count": 8,
     "metadata": {},
     "output_type": "execute_result"
    }
   ],
   "source": [
    "df_ipa[(df_ipa.ratings_cnt > 1) & (df_ipa.tij >= .1)].head()"
   ]
  },
  {
   "cell_type": "code",
   "execution_count": 9,
   "metadata": {
    "collapsed": false
   },
   "outputs": [
    {
     "data": {
      "text/html": [
       "<div>\n",
       "<table border=\"1\" class=\"dataframe\">\n",
       "  <thead>\n",
       "    <tr style=\"text-align: right;\">\n",
       "      <th></th>\n",
       "      <th>alesmith</th>\n",
       "      <th>ballastpoint</th>\n",
       "      <th>bells</th>\n",
       "      <th>lagunitas</th>\n",
       "      <th>russianriver</th>\n",
       "      <th>stone</th>\n",
       "      <th>surly</th>\n",
       "      <th>tij</th>\n",
       "      <th>troegs</th>\n",
       "    </tr>\n",
       "    <tr>\n",
       "      <th>ratings_cnt</th>\n",
       "      <th></th>\n",
       "      <th></th>\n",
       "      <th></th>\n",
       "      <th></th>\n",
       "      <th></th>\n",
       "      <th></th>\n",
       "      <th></th>\n",
       "      <th></th>\n",
       "      <th></th>\n",
       "    </tr>\n",
       "  </thead>\n",
       "  <tbody>\n",
       "    <tr>\n",
       "      <th>1</th>\n",
       "      <td>4.210861</td>\n",
       "      <td>4.151282</td>\n",
       "      <td>4.177386</td>\n",
       "      <td>3.605392</td>\n",
       "      <td>4.115741</td>\n",
       "      <td>4.062695</td>\n",
       "      <td>4.153600</td>\n",
       "      <td>3.661538</td>\n",
       "      <td>4.047393</td>\n",
       "    </tr>\n",
       "    <tr>\n",
       "      <th>2</th>\n",
       "      <td>4.096018</td>\n",
       "      <td>4.030769</td>\n",
       "      <td>4.074603</td>\n",
       "      <td>3.563295</td>\n",
       "      <td>4.036275</td>\n",
       "      <td>3.976417</td>\n",
       "      <td>4.004082</td>\n",
       "      <td>3.567308</td>\n",
       "      <td>4.040268</td>\n",
       "    </tr>\n",
       "    <tr>\n",
       "      <th>3</th>\n",
       "      <td>4.101384</td>\n",
       "      <td>4.023220</td>\n",
       "      <td>4.068182</td>\n",
       "      <td>3.601401</td>\n",
       "      <td>4.020472</td>\n",
       "      <td>3.976623</td>\n",
       "      <td>3.993893</td>\n",
       "      <td>3.652381</td>\n",
       "      <td>3.974719</td>\n",
       "    </tr>\n",
       "    <tr>\n",
       "      <th>4</th>\n",
       "      <td>4.064113</td>\n",
       "      <td>4.003957</td>\n",
       "      <td>4.035000</td>\n",
       "      <td>3.600968</td>\n",
       "      <td>3.984071</td>\n",
       "      <td>3.983088</td>\n",
       "      <td>3.970000</td>\n",
       "      <td>3.530769</td>\n",
       "      <td>3.935542</td>\n",
       "    </tr>\n",
       "    <tr>\n",
       "      <th>5</th>\n",
       "      <td>4.121935</td>\n",
       "      <td>4.032107</td>\n",
       "      <td>4.039316</td>\n",
       "      <td>3.608136</td>\n",
       "      <td>3.986061</td>\n",
       "      <td>3.943421</td>\n",
       "      <td>3.957051</td>\n",
       "      <td>3.510000</td>\n",
       "      <td>3.972283</td>\n",
       "    </tr>\n",
       "    <tr>\n",
       "      <th>6</th>\n",
       "      <td>4.048239</td>\n",
       "      <td>3.994094</td>\n",
       "      <td>3.977670</td>\n",
       "      <td>3.569796</td>\n",
       "      <td>3.967045</td>\n",
       "      <td>3.956902</td>\n",
       "      <td>3.985629</td>\n",
       "      <td>3.543333</td>\n",
       "      <td>3.925824</td>\n",
       "    </tr>\n",
       "    <tr>\n",
       "      <th>7</th>\n",
       "      <td>4.054967</td>\n",
       "      <td>4.032759</td>\n",
       "      <td>4.046497</td>\n",
       "      <td>3.574786</td>\n",
       "      <td>3.997665</td>\n",
       "      <td>3.907742</td>\n",
       "      <td>3.926860</td>\n",
       "      <td>3.434483</td>\n",
       "      <td>3.893361</td>\n",
       "    </tr>\n",
       "    <tr>\n",
       "      <th>8</th>\n",
       "      <td>4.051667</td>\n",
       "      <td>4.031333</td>\n",
       "      <td>4.038796</td>\n",
       "      <td>3.529866</td>\n",
       "      <td>3.966779</td>\n",
       "      <td>3.933110</td>\n",
       "      <td>3.963605</td>\n",
       "      <td>3.475000</td>\n",
       "      <td>3.903082</td>\n",
       "    </tr>\n",
       "    <tr>\n",
       "      <th>9</th>\n",
       "      <td>3.947826</td>\n",
       "      <td>3.847826</td>\n",
       "      <td>3.917391</td>\n",
       "      <td>3.530435</td>\n",
       "      <td>4.013043</td>\n",
       "      <td>3.791304</td>\n",
       "      <td>3.782609</td>\n",
       "      <td>3.395652</td>\n",
       "      <td>3.730435</td>\n",
       "    </tr>\n",
       "  </tbody>\n",
       "</table>\n",
       "</div>"
      ],
      "text/plain": [
       "             alesmith  ballastpoint     bells  lagunitas  russianriver  \\\n",
       "ratings_cnt                                                              \n",
       "1            4.210861      4.151282  4.177386   3.605392      4.115741   \n",
       "2            4.096018      4.030769  4.074603   3.563295      4.036275   \n",
       "3            4.101384      4.023220  4.068182   3.601401      4.020472   \n",
       "4            4.064113      4.003957  4.035000   3.600968      3.984071   \n",
       "5            4.121935      4.032107  4.039316   3.608136      3.986061   \n",
       "6            4.048239      3.994094  3.977670   3.569796      3.967045   \n",
       "7            4.054967      4.032759  4.046497   3.574786      3.997665   \n",
       "8            4.051667      4.031333  4.038796   3.529866      3.966779   \n",
       "9            3.947826      3.847826  3.917391   3.530435      4.013043   \n",
       "\n",
       "                stone     surly       tij    troegs  \n",
       "ratings_cnt                                          \n",
       "1            4.062695  4.153600  3.661538  4.047393  \n",
       "2            3.976417  4.004082  3.567308  4.040268  \n",
       "3            3.976623  3.993893  3.652381  3.974719  \n",
       "4            3.983088  3.970000  3.530769  3.935542  \n",
       "5            3.943421  3.957051  3.510000  3.972283  \n",
       "6            3.956902  3.985629  3.543333  3.925824  \n",
       "7            3.907742  3.926860  3.434483  3.893361  \n",
       "8            3.933110  3.963605  3.475000  3.903082  \n",
       "9            3.791304  3.782609  3.395652  3.730435  "
      ]
     },
     "execution_count": 9,
     "metadata": {},
     "output_type": "execute_result"
    }
   ],
   "source": [
    "# mean ratings of beers based on number of IPA's from collection rated\n",
    "# i.e., some reviewers only rated 1 beer, others all 9\n",
    "# i myself have had 8 of 9; missing 'surly'\n",
    "\n",
    "df_ipa.groupby('ratings_cnt').mean()"
   ]
  },
  {
   "cell_type": "markdown",
   "metadata": {},
   "source": [
    "# prep for MLE grid by first tallying and getting %'s of votes"
   ]
  },
  {
   "cell_type": "code",
   "execution_count": 10,
   "metadata": {
    "collapsed": false
   },
   "outputs": [
    {
     "name": "stdout",
     "output_type": "stream",
     "text": [
      "Post comparison tally:\n",
      "\n",
      "[[    0.    680.5   803.   1040.5   561.   1004.    539.5   153.    605. ]\n",
      " [  594.5     0.    703.   1034.    497.5   930.5   479.5   149.    551.5]\n",
      " [  634.    724.      0.   1268.    530.   1191.5   620.5   121.    722. ]\n",
      " [  125.5   192.    202.      0.    106.5   294.5   108.     98.    165.5]\n",
      " [  362.    412.5   444.    673.5     0.    571.    378.5    73.5   429.5]\n",
      " [  578.    610.5   833.5  1399.5   424.      0.    442.    171.5   571.5]\n",
      " [  310.5   361.5   431.5   622.    295.5   504.      0.     58.    375. ]\n",
      " [   15.     28.     21.     69.      9.5    29.5    15.      0.      9. ]\n",
      " [  298.    333.5   429.    670.5   278.5   541.5   302.     41.      0. ]]\n"
     ]
    }
   ],
   "source": [
    "ipa_comp = np.zeros(81).reshape(9,9)\n",
    "\n",
    "for i in range(len(df_ipa.columns[:-1])):\n",
    "    for j in range(len(df_ipa.columns[:-1])):\n",
    "        # +1 for outright better rating\n",
    "        ipa_comp[i][j] += np.sum(df_ipa.iloc[:, i] > df_ipa.iloc[:, j])\n",
    "        # +0.5 for even score\n",
    "        # makes more sense for \"winning percentage\"\n",
    "        ipa_comp[i][j] += np.sum(df_ipa.iloc[:, i] == df_ipa.iloc[:, j])/2.0\n",
    "    ipa_comp[i][i] = 0\n",
    "\n",
    "print 'Post comparison tally:\\n'\n",
    "print ipa_comp"
   ]
  },
  {
   "cell_type": "code",
   "execution_count": 11,
   "metadata": {
    "collapsed": false
   },
   "outputs": [
    {
     "data": {
      "text/plain": [
       "31852.0"
      ]
     },
     "execution_count": 11,
     "metadata": {},
     "output_type": "execute_result"
    }
   ],
   "source": [
    "# number of head-to-head match ups\n",
    "np.sum(ipa_comp)"
   ]
  },
  {
   "cell_type": "code",
   "execution_count": 12,
   "metadata": {
    "collapsed": false
   },
   "outputs": [
    {
     "data": {
      "text/plain": [
       "3950"
      ]
     },
     "execution_count": 12,
     "metadata": {},
     "output_type": "execute_result"
    }
   ],
   "source": [
    "# number of reviewers\n",
    "# obviously only counting reviewers with two or more IPA's rated\n",
    "# info already available above but highlighting it here\n",
    "np.sum(df_ipa.ratings_cnt > 1)"
   ]
  },
  {
   "cell_type": "code",
   "execution_count": 13,
   "metadata": {
    "collapsed": false
   },
   "outputs": [
    {
     "name": "stdout",
     "output_type": "stream",
     "text": [
      "Post percentage calculation:\n",
      "\n",
      "[[    nan  0.5337  0.5588  0.8924  0.6078  0.6346  0.6347  0.9107  0.67  ]\n",
      " [ 0.4663     nan  0.4926  0.8434  0.5467  0.6038  0.5702  0.8418  0.6232]\n",
      " [ 0.4412  0.5074     nan  0.8626  0.5441  0.5884  0.5898  0.8521  0.6273]\n",
      " [ 0.1076  0.1566  0.1374     nan  0.1365  0.1738  0.1479  0.5868  0.198 ]\n",
      " [ 0.3922  0.4533  0.4559  0.8635     nan  0.5739  0.5616  0.8855  0.6066]\n",
      " [ 0.3654  0.3962  0.4116  0.8262  0.4261     nan  0.4672  0.8532  0.5135]\n",
      " [ 0.3653  0.4298  0.4102  0.8521  0.4384  0.5328     nan  0.7945  0.5539]\n",
      " [ 0.0893  0.1582  0.1479  0.4132  0.1145  0.1468  0.2055     nan  0.18  ]\n",
      " [ 0.33    0.3768  0.3727  0.802   0.3934  0.4865  0.4461  0.82       nan]]\n"
     ]
    }
   ],
   "source": [
    "ipa_perc = np.zeros(81).reshape(9,9)\n",
    "\n",
    "for i in range(len(df_ipa.columns[:-1])):\n",
    "    for j in range(len(df_ipa.columns[:-1])):\n",
    "        try:\n",
    "            ipa_perc[i][j] = ipa_comp[i][j]/float(ipa_comp[i][j] + ipa_comp[j][i])\n",
    "        except:\n",
    "            ipa_perc[i][j] = 0\n",
    "        \n",
    "print 'Post percentage calculation:\\n'\n",
    "print np.round_(ipa_perc, 4)"
   ]
  },
  {
   "cell_type": "code",
   "execution_count": 14,
   "metadata": {
    "collapsed": false
   },
   "outputs": [
    {
     "name": "stdout",
     "output_type": "stream",
     "text": [
      "['alesmith', 'ballastpoint', 'bells', 'lagunitas', 'russianriver', 'stone', 'surly', 'tij', 'troegs']\n",
      "[[   nan  0.534  0.559  0.892  0.608  0.635  0.635  0.911  0.67 ]\n",
      " [ 0.466    nan  0.493  0.843  0.547  0.604  0.57   0.842  0.623]\n",
      " [ 0.441  0.507    nan  0.863  0.544  0.588  0.59   0.852  0.627]\n",
      " [ 0.108  0.157  0.137    nan  0.137  0.174  0.148  0.587  0.198]\n",
      " [ 0.392  0.453  0.456  0.863    nan  0.574  0.562  0.886  0.607]\n",
      " [ 0.365  0.396  0.412  0.826  0.426    nan  0.467  0.853  0.513]\n",
      " [ 0.365  0.43   0.41   0.852  0.438  0.533    nan  0.795  0.554]\n",
      " [ 0.089  0.158  0.148  0.413  0.114  0.147  0.205    nan  0.18 ]\n",
      " [ 0.33   0.377  0.373  0.802  0.393  0.487  0.446  0.82     nan]]\n"
     ]
    }
   ],
   "source": [
    "print df_ipa.columns[:-1].tolist()\n",
    "print np.round_(ipa_perc, 3)"
   ]
  },
  {
   "cell_type": "markdown",
   "metadata": {
    "collapsed": true
   },
   "source": [
    "# test MLE iteration on toy set\n",
    "original motivation: http://fivethirtyeight.com/features/captain-america-civil-war-who-would-win/ <br/>\n",
    "more step-by-step: http://www.pro-football-reference.com/blog/?p=171; screen shots below\n",
    "\n",
    "<img src=\"tIJ_IPA/img/mle_profootball_001.PNG\" />"
   ]
  },
  {
   "cell_type": "code",
   "execution_count": 15,
   "metadata": {
    "collapsed": false
   },
   "outputs": [
    {
     "data": {
      "text/plain": [
       "array([[0, 1, 1],\n",
       "       [0, 0, 1],\n",
       "       [1, 0, 0]])"
      ]
     },
     "execution_count": 15,
     "metadata": {},
     "output_type": "execute_result"
    }
   ],
   "source": [
    "toy_wins = np.array([[0, 1, 1], [0, 0, 1], [1, 0, 0]])\n",
    "toy_wins"
   ]
  },
  {
   "cell_type": "markdown",
   "metadata": {},
   "source": [
    "<img src=\"tIJ_IPA/img/mle_profootball_002.PNG\" />"
   ]
  },
  {
   "cell_type": "code",
   "execution_count": 16,
   "metadata": {
    "collapsed": false
   },
   "outputs": [
    {
     "data": {
      "text/plain": [
       "[array([[ 1.],\n",
       "        [ 1.],\n",
       "        [ 1.]])]"
      ]
     },
     "execution_count": 16,
     "metadata": {},
     "output_type": "execute_result"
    }
   ],
   "source": [
    "rating_iter = []\n",
    "rating_iter.append(np.ones(3).reshape((3,1)))\n",
    "rating_iter"
   ]
  },
  {
   "cell_type": "code",
   "execution_count": 17,
   "metadata": {
    "collapsed": false
   },
   "outputs": [
    {
     "data": {
      "text/plain": [
       "1.3333333333333333"
      ]
     },
     "execution_count": 17,
     "metadata": {},
     "output_type": "execute_result"
    }
   ],
   "source": [
    "idx_a = 0\n",
    "idx_b = 1\n",
    "idx_c = 2\n",
    "\n",
    "# newA\n",
    "np.sum(toy_wins[idx_a]) /\\\n",
    "    float( np.sum(toy_wins[idx_a][idx_b]+toy_wins[idx_b][idx_a])/float(rating_iter[0][idx_a]+rating_iter[0][idx_b]) +\\\n",
    "           np.sum(toy_wins[idx_a][idx_c]+toy_wins[idx_c][idx_a])/float(rating_iter[0][idx_a]+rating_iter[0][idx_c])\n",
    "         )"
   ]
  },
  {
   "cell_type": "markdown",
   "metadata": {},
   "source": [
    "<img src=\"tIJ_IPA/img/mle_profootball_003.PNG\" />"
   ]
  },
  {
   "cell_type": "code",
   "execution_count": 18,
   "metadata": {
    "collapsed": false
   },
   "outputs": [
    {
     "data": {
      "text/plain": [
       "1.0"
      ]
     },
     "execution_count": 18,
     "metadata": {},
     "output_type": "execute_result"
    }
   ],
   "source": [
    "# newB\n",
    "np.sum(toy_wins[idx_b]) /\\\n",
    "    float( np.sum(toy_wins[idx_a][idx_b]+toy_wins[idx_b][idx_a])/float(rating_iter[0][idx_a]+rating_iter[0][idx_b]) +\\\n",
    "           np.sum(toy_wins[idx_b][idx_c]+toy_wins[idx_c][idx_b])/float(rating_iter[0][idx_b]+rating_iter[0][idx_c])\n",
    "         )"
   ]
  },
  {
   "cell_type": "code",
   "execution_count": 19,
   "metadata": {
    "collapsed": false
   },
   "outputs": [
    {
     "data": {
      "text/plain": [
       "0.66666666666666663"
      ]
     },
     "execution_count": 19,
     "metadata": {},
     "output_type": "execute_result"
    }
   ],
   "source": [
    "# newC\n",
    "np.sum(toy_wins[idx_c]) /\\\n",
    "    float( np.sum(toy_wins[idx_a][idx_c]+toy_wins[idx_c][idx_a])/float(rating_iter[0][idx_a]+rating_iter[0][idx_c]) +\\\n",
    "           np.sum(toy_wins[idx_b][idx_c]+toy_wins[idx_c][idx_b])/float(rating_iter[0][idx_b]+rating_iter[0][idx_c])\n",
    "         )"
   ]
  },
  {
   "cell_type": "markdown",
   "metadata": {},
   "source": [
    "<img src=\"tIJ_IPA/img/mle_profootball_004.PNG\" />"
   ]
  },
  {
   "cell_type": "code",
   "execution_count": 20,
   "metadata": {
    "collapsed": true
   },
   "outputs": [],
   "source": [
    "teams = {'a': 0, 'b': 1, 'c': 2}"
   ]
  },
  {
   "cell_type": "code",
   "execution_count": 21,
   "metadata": {
    "collapsed": false
   },
   "outputs": [
    {
     "name": "stdout",
     "output_type": "stream",
     "text": [
      "1.33333333333\n",
      "1.0\n",
      "0.666666666667\n"
     ]
    }
   ],
   "source": [
    "def new_rating(team, rating=0):\n",
    "    \n",
    "    team_list = [team]\n",
    "    wins = float(np.sum(toy_wins[teams[team]]))\n",
    "    \n",
    "    denom = 0\n",
    "    \n",
    "    for t, idx in teams.items():\n",
    "        if t not in team_list:\n",
    "            games_against = float(np.sum(toy_wins[teams[team]][idx]+toy_wins[idx][teams[team]]))\n",
    "            denom += games_against/float(rating_iter[rating][teams[team]]+rating_iter[rating][idx])\n",
    "    \n",
    "    return wins/denom\n",
    "\n",
    "print new_rating('a', 0)\n",
    "print new_rating('b')\n",
    "print new_rating('c')"
   ]
  },
  {
   "cell_type": "code",
   "execution_count": 22,
   "metadata": {
    "collapsed": false
   },
   "outputs": [
    {
     "name": "stdout",
     "output_type": "stream",
     "text": [
      "team a: 1.333333\n",
      "\n",
      "team c: 0.666667\n",
      "\n",
      "team b: 1.000000\n",
      "\n"
     ]
    }
   ],
   "source": [
    "for team in teams:\n",
    "    print 'team %s: %f\\n' % (team, new_rating(team))"
   ]
  },
  {
   "cell_type": "code",
   "execution_count": 23,
   "metadata": {
    "collapsed": false
   },
   "outputs": [
    {
     "name": "stdout",
     "output_type": "stream",
     "text": [
      "number or iterations to maximize: 41\n",
      "ratings: [1.431212899687144, 0.9407335284451731, 0.6183423666278844]\n",
      "Team A beats B: 0.603392\n"
     ]
    }
   ],
   "source": [
    "rating_iter = []\n",
    "rating_iter.append(np.ones(3).reshape((3,1)))\n",
    "\n",
    "\n",
    "for i in range(2000):\n",
    "    temp_ratings = []\n",
    "    # specifiy ratings order via list\n",
    "    # notice in test function in cell above 'b' and 'c' swap prefered order\n",
    "    for j in ['a', 'b', 'c']:\n",
    "        temp_ratings.append(new_rating(j, i))\n",
    "    rating_iter.append(temp_ratings)\n",
    "    \n",
    "    if np.array_equal(rating_iter[-2], rating_iter[-1]):\n",
    "        print \"number or iterations to maximize:\", i\n",
    "        break\n",
    "\n",
    "print \"ratings:\", rating_iter[-1]\n",
    "print \"Team A beats B: %f\" % (rating_iter[-1][0]/(rating_iter[-1][0]+rating_iter[-1][1]))"
   ]
  },
  {
   "cell_type": "markdown",
   "metadata": {
    "collapsed": false
   },
   "source": [
    "## the ratings are different, not important just ratios, but the winning probability matches example: 60.3%\n",
    "\n",
    "<img src=\"tIJ_IPA/img/mle_profootball_005.PNG\" />\n",
    "\n",
    "# ready to apply to IPA's"
   ]
  },
  {
   "cell_type": "code",
   "execution_count": 24,
   "metadata": {
    "collapsed": false
   },
   "outputs": [
    {
     "data": {
      "text/plain": [
       "[array([[ 1.],\n",
       "        [ 1.],\n",
       "        [ 1.],\n",
       "        [ 1.],\n",
       "        [ 1.],\n",
       "        [ 1.],\n",
       "        [ 1.],\n",
       "        [ 1.],\n",
       "        [ 1.]])]"
      ]
     },
     "execution_count": 24,
     "metadata": {},
     "output_type": "execute_result"
    }
   ],
   "source": [
    "rating_iter = []\n",
    "rating_iter.append(np.ones(9).reshape((9,1)))\n",
    "rating_iter"
   ]
  },
  {
   "cell_type": "code",
   "execution_count": 25,
   "metadata": {
    "collapsed": false
   },
   "outputs": [
    {
     "name": "stdout",
     "output_type": "stream",
     "text": [
      "{'stone': 5, 'tij': 7, 'lagunitas': 3, 'surly': 6, 'alesmith': 0, 'bells': 2, 'ballastpoint': 1, 'troegs': 8, 'russianriver': 4}\n"
     ]
    }
   ],
   "source": [
    "ipas = {k:v for k, v in zip(df_ipa.columns[:-1], range(9))}\n",
    "print ipas"
   ]
  },
  {
   "cell_type": "code",
   "execution_count": 26,
   "metadata": {
    "collapsed": false
   },
   "outputs": [
    {
     "name": "stdout",
     "output_type": "stream",
     "text": [
      "0.369462770971\n"
     ]
    }
   ],
   "source": [
    "def new_beer_rating(beer, grid=ipa_comp, rating=0):\n",
    "    \n",
    "    beer_list = [beer]\n",
    "    wins = float(np.sum(grid[ipas[beer]]))\n",
    "    \n",
    "    denom = 0\n",
    "    \n",
    "    for b, idx in ipas.items():\n",
    "        if b not in beer_list:\n",
    "            games_against = float(np.sum(grid[ipas[beer]][idx]+grid[idx][ipas[beer]]))\n",
    "            denom += games_against/float(rating_iter[rating][ipas[beer]]+rating_iter[rating][idx])\n",
    "    \n",
    "    return wins/denom\n",
    "\n",
    "print new_beer_rating('tij')"
   ]
  },
  {
   "cell_type": "code",
   "execution_count": 27,
   "metadata": {
    "collapsed": false
   },
   "outputs": [
    {
     "name": "stdout",
     "output_type": "stream",
     "text": [
      "1st rating update of stone: 0.996435\n",
      "1st rating update of tij: 0.369463\n",
      "1st rating update of lagunitas: 0.320238\n",
      "1st rating update of surly: 1.012494\n",
      "1st rating update of alesmith: 1.297327\n",
      "1st rating update of bells: 1.200868\n",
      "1st rating update of ballastpoint: 1.192828\n",
      "1st rating update of troegs: 0.915388\n",
      "1st rating update of russianriver: 1.106168\n"
     ]
    }
   ],
   "source": [
    "# notice again the IPA's get random sorting\n",
    "for ipa in ipas:\n",
    "    print '1st rating update of %s: %f' % (ipa, new_beer_rating(ipa))"
   ]
  },
  {
   "cell_type": "code",
   "execution_count": 28,
   "metadata": {
    "collapsed": false
   },
   "outputs": [
    {
     "name": "stdout",
     "output_type": "stream",
     "text": [
      "Index([u'alesmith', u'ballastpoint', u'bells', u'lagunitas', u'russianriver',\n",
      "       u'stone', u'surly', u'tij', u'troegs'],\n",
      "      dtype='object')\n"
     ]
    }
   ],
   "source": [
    "# just to have the IPA order present for reference\n",
    "print df_ipa.columns[:-1]"
   ]
  },
  {
   "cell_type": "code",
   "execution_count": 29,
   "metadata": {
    "collapsed": false
   },
   "outputs": [
    {
     "name": "stdout",
     "output_type": "stream",
     "text": [
      "number or iterations to maximize: 70\n",
      "ratings: [1.6074466822012488, 1.300273173040017, 1.304919081977399, 0.19824502126552032, 1.1405649634612778, 0.883810335360305, 0.9585607140089442, 0.17355391800160963, 0.788754690387197]\n",
      "'t IJ beats Stone: 0.164138\n"
     ]
    }
   ],
   "source": [
    "rating_iter = []\n",
    "rating_iter.append(np.ones(9).reshape((9,1)))\n",
    "\n",
    "\n",
    "for i in range(2000):\n",
    "    temp_ratings = []\n",
    "    # specifiy ratings order via list\n",
    "    # notice in test function in cell above 'b' and 'c' swap prefered order\n",
    "    for j in df_ipa.columns[:-1]:\n",
    "        temp_ratings.append(new_beer_rating(j, ipa_comp, i))\n",
    "    rating_iter.append(temp_ratings)\n",
    "    \n",
    "    if np.array_equal(rating_iter[-2], rating_iter[-1]):\n",
    "        print \"number or iterations to maximize:\", i\n",
    "        break\n",
    "\n",
    "print \"ratings:\", rating_iter[-1]\n",
    "print \"'t IJ beats Stone: %f\" % (rating_iter[-1][7]/(rating_iter[-1][7]+rating_iter[-1][5]))"
   ]
  },
  {
   "cell_type": "code",
   "execution_count": 30,
   "metadata": {
    "collapsed": false
   },
   "outputs": [
    {
     "data": {
      "text/plain": [
       "[('alesmith', 1.6074466822012488),\n",
       " ('bells', 1.304919081977399),\n",
       " ('ballastpoint', 1.300273173040017),\n",
       " ('russianriver', 1.1405649634612778),\n",
       " ('surly', 0.9585607140089442),\n",
       " ('stone', 0.883810335360305),\n",
       " ('troegs', 0.788754690387197),\n",
       " ('lagunitas', 0.19824502126552032),\n",
       " ('tij', 0.17355391800160963)]"
      ]
     },
     "execution_count": 30,
     "metadata": {},
     "output_type": "execute_result"
    }
   ],
   "source": [
    "# generate ratings dict and sort in desc order for creation of grids\n",
    "ipa_rating_score = {k:v for k,v in zip(df_ipa.columns[:-1], rating_iter[-1])}\n",
    "ipa_rating_score = sorted(ipa_rating_score.items(), key=lambda x: (-x[1], x[0]))\n",
    "ipa_rating_score"
   ]
  },
  {
   "cell_type": "markdown",
   "metadata": {},
   "source": [
    "# new ipa_perc grid in sorted order by ML ratings"
   ]
  },
  {
   "cell_type": "code",
   "execution_count": 31,
   "metadata": {
    "collapsed": false
   },
   "outputs": [
    {
     "data": {
      "text/plain": [
       "array([[  nan,  0.56,  0.53,  0.61,  0.63,  0.63,  0.67,  0.89,  0.91],\n",
       "       [ 0.44,   nan,  0.51,  0.54,  0.59,  0.59,  0.63,  0.86,  0.85],\n",
       "       [ 0.47,  0.49,   nan,  0.55,  0.57,  0.6 ,  0.62,  0.84,  0.84],\n",
       "       [ 0.39,  0.46,  0.45,   nan,  0.56,  0.57,  0.61,  0.86,  0.89],\n",
       "       [ 0.37,  0.41,  0.43,  0.44,   nan,  0.53,  0.55,  0.85,  0.79],\n",
       "       [ 0.37,  0.41,  0.4 ,  0.43,  0.47,   nan,  0.51,  0.83,  0.85],\n",
       "       [ 0.33,  0.37,  0.38,  0.39,  0.45,  0.49,   nan,  0.8 ,  0.82],\n",
       "       [ 0.11,  0.14,  0.16,  0.14,  0.15,  0.17,  0.2 ,   nan,  0.59],\n",
       "       [ 0.09,  0.15,  0.16,  0.11,  0.21,  0.15,  0.18,  0.41,   nan]])"
      ]
     },
     "execution_count": 31,
     "metadata": {},
     "output_type": "execute_result"
    }
   ],
   "source": [
    "ipa_perc_sorted = np.zeros(81).reshape(9,9)\n",
    "\n",
    "new_beer_row = 0\n",
    "\n",
    "for i in ipa_rating_score:\n",
    "    new_beer_col = 0\n",
    "    for j in ipa_rating_score:\n",
    "        old_beer_row = ipas[i[0]]\n",
    "        old_beer_col = ipas[j[0]]\n",
    "#         print i, j, old_beer_row, old_beer_col\n",
    "        ipa_perc_sorted[new_beer_row][new_beer_col] = ipa_perc[old_beer_row][old_beer_col]\n",
    "        new_beer_col += 1\n",
    "    new_beer_row += 1\n",
    "        \n",
    "np.round_(ipa_perc_sorted, 2)"
   ]
  },
  {
   "cell_type": "markdown",
   "metadata": {},
   "source": [
    "# estimated probability of IPA preference"
   ]
  },
  {
   "cell_type": "code",
   "execution_count": 32,
   "metadata": {
    "collapsed": false
   },
   "outputs": [
    {
     "name": "stdout",
     "output_type": "stream",
     "text": [
      "['alesmith', 'bells', 'ballastpoint', 'russianriver', 'surly', 'stone', 'troegs', 'lagunitas', 'tij']\n"
     ]
    },
    {
     "data": {
      "text/plain": [
       "array([[ 0.  ,  0.55,  0.55,  0.58,  0.63,  0.65,  0.67,  0.89,  0.9 ],\n",
       "       [ 0.45,  0.  ,  0.5 ,  0.53,  0.58,  0.6 ,  0.62,  0.87,  0.88],\n",
       "       [ 0.45,  0.5 ,  0.  ,  0.53,  0.58,  0.6 ,  0.62,  0.87,  0.88],\n",
       "       [ 0.42,  0.47,  0.47,  0.  ,  0.54,  0.56,  0.59,  0.85,  0.87],\n",
       "       [ 0.37,  0.42,  0.42,  0.46,  0.  ,  0.52,  0.55,  0.83,  0.85],\n",
       "       [ 0.35,  0.4 ,  0.4 ,  0.44,  0.48,  0.  ,  0.53,  0.82,  0.84],\n",
       "       [ 0.33,  0.38,  0.38,  0.41,  0.45,  0.47,  0.  ,  0.8 ,  0.82],\n",
       "       [ 0.11,  0.13,  0.13,  0.15,  0.17,  0.18,  0.2 ,  0.  ,  0.53],\n",
       "       [ 0.1 ,  0.12,  0.12,  0.13,  0.15,  0.16,  0.18,  0.47,  0.  ]])"
      ]
     },
     "execution_count": 32,
     "metadata": {},
     "output_type": "execute_result"
    }
   ],
   "source": [
    "ipa_est_pref = np.zeros(81).reshape(9,9)\n",
    "\n",
    "est_row = 0\n",
    "\n",
    "for i in ipa_rating_score:\n",
    "    est_col = 0\n",
    "    for j in ipa_rating_score:\n",
    "        if i[0] == j[0]:\n",
    "            est_col += 1\n",
    "            pass\n",
    "        else:\n",
    "            ipa_est_pref[est_row][est_col] = i[1]/(i[1]+j[1])\n",
    "            est_col += 1\n",
    "    est_row += 1\n",
    "\n",
    "print [beer[0] for beer in ipa_rating_score]\n",
    "np.round_(ipa_est_pref, 2)           "
   ]
  },
  {
   "cell_type": "code",
   "execution_count": 33,
   "metadata": {
    "collapsed": false
   },
   "outputs": [],
   "source": [
    "# import plotly.plotly as py\n",
    "# import plotly.graph_objs as go\n",
    "\n",
    "# - OR -\n",
    "# import seaborn as sns"
   ]
  },
  {
   "cell_type": "code",
   "execution_count": null,
   "metadata": {
    "collapsed": true
   },
   "outputs": [],
   "source": []
  }
 ],
 "metadata": {
  "kernelspec": {
   "display_name": "Python 2",
   "language": "python",
   "name": "python2"
  },
  "language_info": {
   "codemirror_mode": {
    "name": "ipython",
    "version": 2
   },
   "file_extension": ".py",
   "mimetype": "text/x-python",
   "name": "python",
   "nbconvert_exporter": "python",
   "pygments_lexer": "ipython2",
   "version": "2.7.11"
  }
 },
 "nbformat": 4,
 "nbformat_minor": 0
}
